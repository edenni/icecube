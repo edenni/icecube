{
 "cells": [
  {
   "cell_type": "code",
   "execution_count": 1,
   "metadata": {},
   "outputs": [
    {
     "name": "stdout",
     "output_type": "stream",
     "text": [
      "\u001b[1;34mgraphnet\u001b[0m: \u001b[32mINFO    \u001b[0m 2023-02-18 00:44:17 - get_logger - Writing log to \u001b[1mlogs/graphnet_20230218-004417.log\u001b[0m\n"
     ]
    }
   ],
   "source": [
    "from typing import List, Optional\n",
    "import os\n",
    "\n",
    "from pytorch_lightning.callbacks import EarlyStopping\n",
    "from pytorch_lightning.loggers import WandbLogger\n",
    "from pytorch_lightning.utilities import rank_zero_only\n",
    "from graphnet.constants import EXAMPLE_OUTPUT_DIR\n",
    "from graphnet.data.dataloader import DataLoader\n",
    "from graphnet.models import Model\n",
    "from graphnet.training.callbacks import ProgressBar\n",
    "from graphnet.utilities.argparse import ArgumentParser\n",
    "from graphnet.utilities.config import (\n",
    "    DatasetConfig,\n",
    "    ModelConfig,\n",
    "    TrainingConfig,\n",
    ")\n",
    "from graphnet.utilities.logging import get_logger"
   ]
  },
  {
   "cell_type": "code",
   "execution_count": 3,
   "metadata": {},
   "outputs": [],
   "source": [
    "# Make sure W&B output directory exists\n",
    "WANDB_DIR = \"../../logs/wandb/\"\n",
    "os.makedirs(WANDB_DIR, exist_ok=True)\n",
    "\n",
    "logger = get_logger()"
   ]
  },
  {
   "cell_type": "code",
   "execution_count": 2,
   "metadata": {},
   "outputs": [
    {
     "name": "stdout",
     "output_type": "stream",
     "text": [
      "\u001b[1;34mgraphnet\u001b[0m: \u001b[33mWARNING \u001b[0m 2023-02-18 01:07:37 - warn_once - `icecube` not available. Some functionality may be missing.\u001b[0m\n"
     ]
    }
   ],
   "source": [
    "model_config = ModelConfig.load(\"/home/eden/projects/icecube/graphnet/configs/models/example_direction_reconstruction_model.yml\")\n",
    "model = Model.from_config(model_config, trust=True)"
   ]
  },
  {
   "cell_type": "code",
   "execution_count": 3,
   "metadata": {},
   "outputs": [
    {
     "data": {
      "text/plain": [
       "ModelConfig(class_name='StandardModel', arguments={'coarsening': None, 'detector': ModelConfig(class_name='Prometheus', arguments={'graph_builder': ModelConfig(class_name='KNNGraphBuilder', arguments={'columns': None, 'nb_nearest_neighbours': 8}), 'scalers': None}), 'gnn': ModelConfig(class_name='DynEdge', arguments={'add_global_variables_after_pooling': False, 'dynedge_layer_sizes': None, 'features_subset': None, 'global_pooling_schemes': ['min', 'max', 'mean', 'sum'], 'nb_inputs': 4, 'nb_neighbours': 8, 'post_processing_layer_sizes': None, 'readout_layer_sizes': None}), 'optimizer_class': '!class torch.optim.adam Adam', 'optimizer_kwargs': {'eps': 0.001, 'lr': 1e-05}, 'scheduler_class': '!class torch.optim.lr_scheduler ReduceLROnPlateau', 'scheduler_config': {'frequency': 1, 'monitor': 'val_loss'}, 'scheduler_kwargs': {'patience': 5}, 'tasks': [ModelConfig(class_name='ZenithReconstructionWithKappa', arguments={'hidden_size': 128, 'loss_function': ModelConfig(class_name='VonMisesFisher2DLoss', arguments={}), 'loss_weight': None, 'target_labels': 'injection_zenith', 'transform_inference': None, 'transform_prediction_and_target': None, 'transform_support': None, 'transform_target': None}), ModelConfig(class_name='AzimuthReconstructionWithKappa', arguments={'hidden_size': 128, 'loss_function': ModelConfig(class_name='VonMisesFisher2DLoss', arguments={}), 'loss_weight': None, 'target_labels': 'injection_azimuth', 'transform_inference': None, 'transform_prediction_and_target': None, 'transform_support': None, 'transform_target': None})]})"
      ]
     },
     "execution_count": 3,
     "metadata": {},
     "output_type": "execute_result"
    }
   ],
   "source": [
    "model_config"
   ]
  },
  {
   "cell_type": "code",
   "execution_count": null,
   "metadata": {},
   "outputs": [],
   "source": []
  }
 ],
 "metadata": {
  "kernelspec": {
   "display_name": "icecube",
   "language": "python",
   "name": "python3"
  },
  "language_info": {
   "codemirror_mode": {
    "name": "ipython",
    "version": 3
   },
   "file_extension": ".py",
   "mimetype": "text/x-python",
   "name": "python",
   "nbconvert_exporter": "python",
   "pygments_lexer": "ipython3",
   "version": "3.7.16"
  },
  "orig_nbformat": 4,
  "vscode": {
   "interpreter": {
    "hash": "5d1f5c8a913c9cf5c53f678b20c057b673b014e2f0c3fa6d6f65aab94461faf8"
   }
  }
 },
 "nbformat": 4,
 "nbformat_minor": 2
}
