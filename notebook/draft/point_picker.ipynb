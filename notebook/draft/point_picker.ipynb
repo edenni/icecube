{
 "cells": [
  {
   "attachments": {},
   "cell_type": "markdown",
   "metadata": {},
   "source": [
    "https://www.kaggle.com/code/seungmoklee/3-lstms-with-data-picking-and-shifting#Set-Detector-Geometry"
   ]
  },
  {
   "cell_type": "code",
   "execution_count": 6,
   "metadata": {},
   "outputs": [],
   "source": [
    "import numpy as np\n",
    "import pandas as pd\n",
    "\n",
    "from icecube import constants"
   ]
  },
  {
   "cell_type": "code",
   "execution_count": 7,
   "metadata": {},
   "outputs": [],
   "source": [
    "# sensor_geometry\n",
    "sensor_geometry_df = pd.read_csv(constants.raw_data_dir / \"sensor_geometry.csv\")\n",
    "\n",
    "# counts\n",
    "doms_per_string = 60\n",
    "string_num = 86\n",
    "\n",
    "# index\n",
    "outer_long_strings = np.concatenate(\n",
    "    [np.arange(0, 25), np.arange(27, 34), np.arange(37, 44), np.arange(46, 78)]\n",
    ")\n",
    "inner_long_strings = np.array([25, 26, 34, 35, 36, 44, 45])\n",
    "inner_short_strings = np.array([78, 79, 80, 81, 82, 83, 84, 85])\n",
    "\n",
    "# known specs\n",
    "outer_xy_resolution = 125.0 / 2\n",
    "inner_xy_resolution = 70.0 / 2\n",
    "long_z_resolution = 17.0 / 2\n",
    "short_z_resolution = 7.0 / 2\n",
    "\n",
    "# evaluate error\n",
    "sensor_x = sensor_geometry_df.x\n",
    "sensor_y = sensor_geometry_df.y\n",
    "sensor_z = sensor_geometry_df.z\n",
    "sensor_r_err = np.ones(doms_per_string * string_num)\n",
    "sensor_z_err = np.ones(doms_per_string * string_num)\n",
    "\n",
    "for string_id in outer_long_strings:\n",
    "    sensor_r_err[\n",
    "        string_id * doms_per_string : (string_id + 1) * doms_per_string\n",
    "    ] *= outer_xy_resolution\n",
    "    \n",
    "for string_id in np.concatenate([inner_long_strings, inner_short_strings]):\n",
    "    sensor_r_err[\n",
    "        string_id * doms_per_string : (string_id + 1) * doms_per_string\n",
    "    ] *= inner_xy_resolution\n",
    "\n",
    "for string_id in outer_long_strings:\n",
    "    sensor_z_err[\n",
    "        string_id * doms_per_string : (string_id + 1) * doms_per_string\n",
    "    ] *= long_z_resolution\n",
    "\n",
    "for string_id in np.concatenate([inner_long_strings, inner_short_strings]):\n",
    "    for dom_id in range(doms_per_string):\n",
    "        z = sensor_z[string_id * doms_per_string + dom_id]\n",
    "        if (z < -156.0) or (z > 95.5 and z < 191.5):\n",
    "            sensor_z_err[\n",
    "                string_id * doms_per_string + dom_id\n",
    "            ] *= short_z_resolution\n",
    "\n",
    "# register\n",
    "sensor_geometry_df[\"r_err\"] = sensor_r_err\n",
    "sensor_geometry_df[\"z_err\"] = sensor_z_err\n"
   ]
  },
  {
   "cell_type": "code",
   "execution_count": 8,
   "metadata": {},
   "outputs": [
    {
     "name": "stdout",
     "output_type": "stream",
     "text": [
      "t_valid_length:  6199.700247193777  ns\n"
     ]
    }
   ],
   "source": [
    "# detector constants\n",
    "c_const = 0.299792458  # speed of light [m/ns]\n",
    "\n",
    "x_min = sensor_x.min()\n",
    "x_max = sensor_x.max()\n",
    "y_min = sensor_y.min()\n",
    "y_max = sensor_y.max()\n",
    "z_min = sensor_z.min()\n",
    "z_max = sensor_z.max()\n",
    "\n",
    "detector_length = np.sqrt((x_max - x_min)**2 + (y_max - y_min)**2 + (z_max - z_min)**2)\n",
    "t_valid_length = detector_length / c_const\n",
    "\n",
    "print(\"t_valid_length: \", t_valid_length, \" ns\")"
   ]
  },
  {
   "cell_type": "code",
   "execution_count": 36,
   "metadata": {},
   "outputs": [],
   "source": [
    "bin_num = 16\n",
    "\n",
    "azimuth_edges = np.linspace(0, 2 * np.pi, bin_num + 1)\n",
    "azimuth_shift = (azimuth_edges[1] - azimuth_edges[0]) / 2.\n",
    "\n",
    "zenith_edges_flat = np.linspace(0, np.pi, bin_num + 1)\n",
    "zenith_edges = list()\n",
    "zenith_edges.append(0)\n",
    "for bin_idx in range(1, bin_num):\n",
    "    # cos(zen_before) - cos(zen_now) = 2 / bin_num\n",
    "    zen_now = np.arccos(np.cos(zenith_edges[-1]) - 2 / bin_num)\n",
    "    zenith_edges.append(zen_now)\n",
    "zenith_edges.append(np.pi)\n",
    "zenith_edges = np.array(zenith_edges)"
   ]
  },
  {
   "cell_type": "code",
   "execution_count": 39,
   "metadata": {},
   "outputs": [
    {
     "name": "stderr",
     "output_type": "stream",
     "text": [
      "/home/eden/anaconda3/envs/icecube/lib/python3.7/site-packages/ipykernel_launcher.py:11: UserWarning: Matplotlib is currently using module://matplotlib_inline.backend_inline, which is a non-GUI backend, so cannot show the figure.\n",
      "  # This is added back by InteractiveShellApp.init_path()\n"
     ]
    },
    {
     "data": {
      "image/png": "[encoded data removed]",
      "text/plain": [
       "<Figure size 800x400 with 2 Axes>"
      ]
     },
     "metadata": {},
     "output_type": "display_data"
    }
   ],
   "source": [
    "import matplotlib.pyplot as plt\n",
    "\n",
    "fig = plt.figure(figsize=(8, 4))\n",
    "\n",
    "ax = fig.add_subplot(1, 2, 1)\n",
    "ax.hist(azimuth_edges, bins=100)\n",
    "\n",
    "ax = fig.add_subplot(1, 2, 2)\n",
    "ax.hist(zenith_edges, bins=100)\n",
    "\n",
    "fig.show()"
   ]
  },
  {
   "cell_type": "code",
   "execution_count": 45,
   "metadata": {},
   "outputs": [],
   "source": [
    "def y_to_onehot(batch_y):\n",
    "    # evaluate bin code\n",
    "    azimuth_code = (batch_y[:, 0] > azimuth_edges[1:].reshape((-1, 1))).sum(axis=0)\n",
    "    zenith_code = (batch_y[:, 1] > zenith_edges[1:].reshape((-1, 1))).sum(axis=0)\n",
    "    angle_code = bin_num * azimuth_code + zenith_code\n",
    "\n",
    "    # one-hot\n",
    "    batch_y_onehot = np.zeros((angle_code.size, bin_num * bin_num))\n",
    "    batch_y_onehot[np.arange(angle_code.size), angle_code] = 1\n",
    "    \n",
    "    return batch_y_onehot"
   ]
  },
  {
   "cell_type": "code",
   "execution_count": 48,
   "metadata": {},
   "outputs": [],
   "source": [
    "angle_bin_zenith0 = np.tile(zenith_edges[:-1], bin_num)\n",
    "angle_bin_zenith1 = np.tile(zenith_edges[1:], bin_num)\n",
    "angle_bin_azimuth0 = np.repeat(azimuth_edges[:-1], bin_num)\n",
    "angle_bin_azimuth1 = np.repeat(azimuth_edges[1:], bin_num)\n",
    "\n",
    "angle_bin_area = (angle_bin_azimuth1 - angle_bin_azimuth0) * (np.cos(angle_bin_zenith0) - np.cos(angle_bin_zenith1))\n",
    "angle_bin_vector_sum_x = (np.sin(angle_bin_azimuth1) - np.sin(angle_bin_azimuth0)) * ((angle_bin_zenith1 - angle_bin_zenith0) / 2 - (np.sin(2 * angle_bin_zenith1) - np.sin(2 * angle_bin_zenith0)) / 4)\n",
    "angle_bin_vector_sum_y = (np.cos(angle_bin_azimuth0) - np.cos(angle_bin_azimuth1)) * ((angle_bin_zenith1 - angle_bin_zenith0) / 2 - (np.sin(2 * angle_bin_zenith1) - np.sin(2 * angle_bin_zenith0)) / 4)\n",
    "angle_bin_vector_sum_z = (angle_bin_azimuth1 - angle_bin_azimuth0) * ((np.cos(2 * angle_bin_zenith0) - np.cos(2 * angle_bin_zenith1)) / 4)\n",
    "\n",
    "angle_bin_vector_mean_x = angle_bin_vector_sum_x / angle_bin_area\n",
    "angle_bin_vector_mean_y = angle_bin_vector_sum_y / angle_bin_area\n",
    "angle_bin_vector_mean_z = angle_bin_vector_sum_z / angle_bin_area\n",
    "\n",
    "angle_bin_vector = np.zeros((1, bin_num * bin_num, 3))\n",
    "angle_bin_vector[:, :, 0] = angle_bin_vector_mean_x\n",
    "angle_bin_vector[:, :, 1] = angle_bin_vector_mean_y\n",
    "angle_bin_vector[:, :, 2] = angle_bin_vector_mean_z\n",
    "\n",
    "angle_bin_vector_unit = angle_bin_vector[0].copy()\n",
    "angle_bin_vector_unit /= np.sqrt((angle_bin_vector_unit**2).sum(axis=1).reshape((-1, 1)))"
   ]
  },
  {
   "cell_type": "code",
   "execution_count": 50,
   "metadata": {},
   "outputs": [
    {
     "data": {
      "text/plain": [
       "(256, 3)"
      ]
     },
     "execution_count": 50,
     "metadata": {},
     "output_type": "execute_result"
    }
   ],
   "source": [
    "angle_bin_vector_unit.shape"
   ]
  }
 ],
 "metadata": {
  "kernelspec": {
   "display_name": "icecube",
   "language": "python",
   "name": "python3"
  },
  "language_info": {
   "codemirror_mode": {
    "name": "ipython",
    "version": 3
   },
   "file_extension": ".py",
   "mimetype": "text/x-python",
   "name": "python",
   "nbconvert_exporter": "python",
   "pygments_lexer": "ipython3",
   "version": "3.7.16"
  },
  "orig_nbformat": 4,
  "vscode": {
   "interpreter": {
    "hash": "5d1f5c8a913c9cf5c53f678b20c057b673b014e2f0c3fa6d6f65aab94461faf8"
   }
  }
 },
 "nbformat": 4,
 "nbformat_minor": 2
}
