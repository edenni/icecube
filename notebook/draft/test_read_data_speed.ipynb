{
 "cells": [
  {
   "cell_type": "code",
   "execution_count": 13,
   "metadata": {
    "tags": []
   },
   "outputs": [],
   "source": [
    "%load_ext snakeviz"
   ]
  },
  {
   "cell_type": "code",
   "execution_count": 5,
   "metadata": {
    "tags": []
   },
   "outputs": [
    {
     "name": "stdout",
     "output_type": "stream",
     "text": [
      "\u001b[1;34mgraphnet\u001b[0m: \u001b[33mWARNING \u001b[0m 2023-03-08 16:44:50 - SQLiteDataset.warning - Removing the following (missing) truth variables: x, y, z, time, charge, auxiliary\u001b[0m\n"
     ]
    }
   ],
   "source": [
    "from graphnet.data.sqlite import SQLiteDataset\n",
    "from graphnet.training.utils import make_dataloader\n",
    "from graphnet.training.labels import Direction\n",
    "from graphnet.data.constants import FEATURES, TRUTH\n",
    "\n",
    "db_path = \"../../input/sqlite/batch_51_100.db\"\n",
    "\n",
    "dataset = SQLiteDataset(\n",
    "    path=db_path,\n",
    "    pulsemaps=\"pulse_table\",\n",
    "    features=FEATURES.KAGGLE,\n",
    "    truth=FEATURES.KAGGLE,\n",
    "    selection=None,\n",
    "    truth_table=\"meta_table\",\n",
    "    index_column=\"event_id\",\n",
    ")"
   ]
  },
  {
   "cell_type": "code",
   "execution_count": 7,
   "metadata": {
    "tags": []
   },
   "outputs": [],
   "source": [
    "dataloader = make_dataloader(\n",
    "    db=db_path,\n",
    "    selection=None,\n",
    "    pulsemaps=\"pulse_table\",\n",
    "    truth_table=\"meta_table\",\n",
    "    features=FEATURES.KAGGLE,\n",
    "    truth=TRUTH.KAGGLE,\n",
    "    batch_size=64,\n",
    "    num_workers=8,\n",
    "    shuffle=True,\n",
    "    labels={\"direction\": Direction()},\n",
    "    index_column=\"event_id\",\n",
    ")"
   ]
  },
  {
   "cell_type": "code",
   "execution_count": 15,
   "metadata": {
    "tags": []
   },
   "outputs": [
    {
     "name": "stdout",
     "output_type": "stream",
     "text": [
      " \n",
      "*** Profile stats marshalled to file '/tmp/tmp49y7rg76'. \n",
      "Embedding SnakeViz in this document...\n"
     ]
    },
    {
     "data": {
      "text/html": [
       "\n",
       "<iframe id='snakeviz-4d5908e4-bd88-11ed-9920-2cf05de8d866' frameborder=0 seamless width='100%' height='1000'></iframe>\n",
       "<script>document.getElementById(\"snakeviz-4d5908e4-bd88-11ed-9920-2cf05de8d866\").setAttribute(\"src\", \"http://\" + document.location.hostname + \":8080/snakeviz/%2Ftmp%2Ftmp49y7rg76\")</script>\n"
      ],
      "text/plain": [
       "<IPython.core.display.HTML object>"
      ]
     },
     "metadata": {},
     "output_type": "display_data"
    }
   ],
   "source": [
    "%%snakeviz\n",
    "\n",
    "dataset[0]"
   ]
  }
 ],
 "metadata": {
  "kernelspec": {
   "display_name": "Python 3 (ipykernel)",
   "language": "python",
   "name": "python3"
  },
  "language_info": {
   "codemirror_mode": {
    "name": "ipython",
    "version": 3
   },
   "file_extension": ".py",
   "mimetype": "text/x-python",
   "name": "python",
   "nbconvert_exporter": "python",
   "pygments_lexer": "ipython3",
   "version": "3.7.16"
  },
  "vscode": {
   "interpreter": {
    "hash": "5d1f5c8a913c9cf5c53f678b20c057b673b014e2f0c3fa6d6f65aab94461faf8"
   }
  }
 },
 "nbformat": 4,
 "nbformat_minor": 4
}
