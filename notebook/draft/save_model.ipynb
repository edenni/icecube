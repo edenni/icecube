{
 "cells": [
  {
   "attachments": {},
   "cell_type": "markdown",
   "metadata": {},
   "source": [
    "# TorchScript"
   ]
  },
  {
   "cell_type": "code",
   "execution_count": 1,
   "metadata": {},
   "outputs": [],
   "source": [
    "from pathlib import Path\n",
    "\n",
    "import torch\n",
    "\n",
    "from icecube.model.lstm import LSTM"
   ]
  },
  {
   "cell_type": "code",
   "execution_count": 2,
   "metadata": {},
   "outputs": [],
   "source": [
    "BS = 1\n",
    "NUM_LENGTHS = 96\n",
    "NUM_FEATURES = 6\n",
    "\n",
    "model_args = {\n",
    "    \"input_size\":    6,\n",
    "    \"hidden_size\":   192,\n",
    "    \"num_bins\":      24,\n",
    "    \"num_layers\":    3,\n",
    "    \"bias\":          False,\n",
    "    \"batch_first\":   True,\n",
    "    \"dropout\":       0,\n",
    "    \"bidirectional\": True,\n",
    "    \"task\":          \"clf\",\n",
    "    \"net_name\":      \"lstm\",\n",
    "}\n",
    "\n",
    "model_dir = Path('../../models/lstm/')\n",
    "models = [\n",
    "    'gru_mae_1.026_epoch_052.ckpt',\n",
    "    'lstm_mae_1.026_epoch_058.ckpt',\n",
    "]\n",
    "\n",
    "\n",
    "def save_model(model_path, inputs=torch.randn(BS, NUM_LENGTHS, NUM_FEATURES), model_args=model_args, device=torch.device(\"cuda\"), test=True):\n",
    "    model_type = model_path.stem.split(\"_\")[0]\n",
    "    model_args['net_name'] = model_type\n",
    "    print(f\"Loading {model_type} from {model_path}\")\n",
    "\n",
    "    model = LSTM(**model_args).eval().to(device)\n",
    "    inputs = inputs.to(device)\n",
    "\n",
    "    state_dict = torch.load(model_path, map_location=device)['state_dict']\n",
    "    model.load_state_dict(state_dict)\n",
    "\n",
    "    script_path = model_path.parent / (model_path.stem + '.script')\n",
    "    script = model.to_torchscript(file_path=script_path, method='trace', example_inputs=inputs)\n",
    "\n",
    "    print(f\"Save model to {script_path}\")\n",
    "\n",
    "    if test:\n",
    "        torch.testing.assert_close(\n",
    "            actual=script(inputs),\n",
    "            expected=model(inputs),\n",
    "            msg=\"Test failed!\"       \n",
    "        )\n",
    "        print('Test passed!')\n",
    "    return script_path\n"
   ]
  },
  {
   "cell_type": "code",
   "execution_count": 3,
   "metadata": {},
   "outputs": [
    {
     "name": "stdout",
     "output_type": "stream",
     "text": [
      "Loading gru from ../../models/lstm/gru_mae_1.026_epoch_052.ckpt\n",
      "Save model to ../../models/lstm/gru_mae_1.026_epoch_052.script\n",
      "Test passed!\n",
      "Loading lstm from ../../models/lstm/lstm_mae_1.026_epoch_058.ckpt\n",
      "Save model to ../../models/lstm/lstm_mae_1.026_epoch_058.script\n",
      "Test passed!\n"
     ]
    }
   ],
   "source": [
    "script_paths = [save_model(model_dir / m) for m in models]"
   ]
  },
  {
   "cell_type": "code",
   "execution_count": null,
   "metadata": {},
   "outputs": [],
   "source": []
  }
 ],
 "metadata": {
  "kernelspec": {
   "display_name": "icecube",
   "language": "python",
   "name": "python3"
  },
  "language_info": {
   "codemirror_mode": {
    "name": "ipython",
    "version": 3
   },
   "file_extension": ".py",
   "mimetype": "text/x-python",
   "name": "python",
   "nbconvert_exporter": "python",
   "pygments_lexer": "ipython3",
   "version": "3.7.16"
  },
  "orig_nbformat": 4,
  "vscode": {
   "interpreter": {
    "hash": "5d1f5c8a913c9cf5c53f678b20c057b673b014e2f0c3fa6d6f65aab94461faf8"
   }
  }
 },
 "nbformat": 4,
 "nbformat_minor": 2
}
