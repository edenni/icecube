{
 "cells": [
  {
   "cell_type": "code",
   "execution_count": 1,
   "metadata": {},
   "outputs": [],
   "source": [
    "import numpy as np\n",
    "import webdataset as wbs\n",
    "import pickle\n",
    "\n",
    "from icecube.utils.coordinate import create_bins\n",
    "\n",
    "def get_features_truth(src):\n",
    "    features, truth = pickle.loads(src[\"pickle\"])\n",
    "\n",
    "    x = np.concatenate(\n",
    "        [features, np.zeros((features.shape[0], 1))], axis=1\n",
    "    )\n",
    "    dtype = [\n",
    "        (\"x\", \"float16\"),\n",
    "        (\"y\", \"float16\"),\n",
    "        (\"z\", \"float16\"),\n",
    "        (\"time\", \"float16\"),\n",
    "        (\"charge\", \"float16\"),\n",
    "        (\"auxiliary\", \"float16\"),\n",
    "        (\"rank\", \"short\"),\n",
    "    ]\n",
    "\n",
    "    n_pulses = len(x)\n",
    "   \n",
    "    event_x = np.zeros(n_pulses, dtype)\n",
    "\n",
    "    event_x[\"x\"] = x[:, 0]\n",
    "    event_x[\"y\"] = x[:, 1]\n",
    "    event_x[\"z\"] = x[:, 2]\n",
    "    event_x[\"time\"] = x[:, 3] - x[:, 3].min()\n",
    "    event_x[\"charge\"] = x[:, 4]\n",
    "    event_x[\"auxiliary\"] = x[:, 5]\n",
    "\n",
    "    if n_pulses > 96:\n",
    "        # Find valid time window\n",
    "        t_peak = event_x[\"time\"][event_x[\"time\"].argmax()]\n",
    "        t_valid_min = t_peak - 6199.700247193777\n",
    "        t_valid_max = t_peak + 6199.700247193777\n",
    "\n",
    "        t_valid = (event_x[\"time\"] > t_valid_min) * (\n",
    "            event_x[\"time\"] < t_valid_max\n",
    "        )\n",
    "\n",
    "        # rank\n",
    "        event_x[\"rank\"] = 2 * (1 - event_x[\"auxiliary\"]) + (t_valid)\n",
    "\n",
    "        # sort by rank and charge (important goes to backward)\n",
    "        event_x = np.sort(event_x, order=[\"rank\", \"charge\"])\n",
    "\n",
    "        # pick-up from backward\n",
    "        event_x = event_x[-96 :]\n",
    "\n",
    "        # resort by time\n",
    "        event_x = np.sort(event_x, order=\"time\")\n",
    "\n",
    "    event_x[\"x\"] /= 600\n",
    "    event_x[\"y\"] /= 600\n",
    "    event_x[\"z\"] /= 600\n",
    "    event_x[\"time\"] /= 1000\n",
    "    event_x[\"charge\"] /= 300\n",
    "\n",
    "    event_y = truth.astype(dtype=\"float16\")[:, ::-1]\n",
    "    code = _y_to_angle_code(event_y)[0]\n",
    "\n",
    "    placeholder = np.zeros(\n",
    "        (len(event_x), 6), dtype=np.float16\n",
    "    )\n",
    "    placeholder[:n_pulses, 0] = event_x[\"x\"]\n",
    "    placeholder[:n_pulses, 1] = event_x[\"y\"]\n",
    "    placeholder[:n_pulses, 2] = event_x[\"z\"]\n",
    "    placeholder[:n_pulses, 3] = event_x[\"time\"]\n",
    "    placeholder[:n_pulses, 4] = event_x[\"charge\"]\n",
    "    placeholder[:n_pulses, 5] = event_x[\"auxiliary\"]\n",
    "\n",
    "    return placeholder, event_y.squeeze(0), code, np.clip(288, a_min=0, a_max=96)\n",
    "\n",
    "azimuth_edges, zenith_edges = create_bins(19)\n",
    "\n",
    "def _y_to_angle_code(y):\n",
    "    azimuth_code = (y[:, 0] >azimuth_edges[1:].reshape((-1, 1))).sum(\n",
    "        axis=0\n",
    "    )\n",
    "    zenith_code = (y[:, 1] > zenith_edges[1:].reshape((-1, 1))).sum(\n",
    "        axis=0\n",
    "    )\n",
    "    angle_code = 19 * azimuth_code + zenith_code\n",
    "\n",
    "    return angle_code"
   ]
  },
  {
   "cell_type": "code",
   "execution_count": 3,
   "metadata": {},
   "outputs": [],
   "source": [
    "trainset = (\n",
    "    wbs.WebDataset(\"../../input/webdatasets/batch-{100..145}.tar\")\n",
    ")"
   ]
  },
  {
   "cell_type": "code",
   "execution_count": 5,
   "metadata": {},
   "outputs": [
    {
     "name": "stderr",
     "output_type": "stream",
     "text": [
      "0it [00:00, ?it/s]\n"
     ]
    }
   ],
   "source": [
    "from tqdm import tqdm\n",
    "\n",
    "for t in tqdm(trainset):\n",
    "    ex, ey, ecode, lengths = get_features_truth(t)\n",
    "    break"
   ]
  },
  {
   "cell_type": "code",
   "execution_count": 6,
   "metadata": {},
   "outputs": [
    {
     "data": {
      "text/plain": [
       "array([[-5.8008e-01,  7.5244e-01,  7.5146e-01,  0.0000e+00,  3.5839e-03,\n",
       "         1.0000e+00],\n",
       "       [ 2.9077e-01,  5.2588e-01,  2.8735e-01,  1.2299e-01,  6.7520e-03,\n",
       "         1.0000e+00],\n",
       "       [ 2.9077e-01,  5.2588e-01,  2.8735e-01,  1.6003e-01,  1.2503e-03,\n",
       "         1.0000e+00],\n",
       "       [ 2.0837e-01, -2.1875e-01, -5.9570e-01,  3.7793e-01,  3.4180e-03,\n",
       "         1.0000e+00],\n",
       "       [ 5.4443e-01, -3.4863e-01,  5.4688e-01,  5.3516e-01,  3.2501e-03,\n",
       "         1.0000e+00],\n",
       "       [-6.7188e-01,  5.8174e-03,  6.0938e-01,  8.9404e-01,  5.8365e-04,\n",
       "         1.0000e+00],\n",
       "       [-4.4824e-01,  5.9033e-01,  1.5515e-01,  1.1016e+00,  1.9169e-03,\n",
       "         1.0000e+00],\n",
       "       [-4.4824e-01,  5.9033e-01,  1.5515e-01,  1.1152e+00,  2.5826e-03,\n",
       "         1.0000e+00],\n",
       "       [-1.2964e-01, -9.0576e-02, -2.9688e-01,  1.1973e+00,  2.7504e-03,\n",
       "         1.0000e+00],\n",
       "       [-1.6846e-01,  8.1689e-01,  6.6553e-01,  1.5713e+00,  3.4180e-03,\n",
       "         1.0000e+00],\n",
       "       [-3.9160e-01,  2.3413e-01,  3.2300e-01,  1.7109e+00,  2.9163e-03,\n",
       "         1.0000e+00],\n",
       "       [ 1.2061e-01, -1.1102e-01, -4.5337e-01,  2.0098e+00,  2.5826e-03,\n",
       "         1.0000e+00],\n",
       "       [ 2.8496e-03, -2.5098e-01,  2.0471e-01,  2.3906e+00,  5.4169e-03,\n",
       "         1.0000e+00],\n",
       "       [ 6.3721e-01,  3.9819e-01,  5.4688e-01,  2.5449e+00,  3.5839e-03,\n",
       "         1.0000e+00],\n",
       "       [ 7.7148e-02, -5.8136e-02,  6.0791e-01,  2.7168e+00,  4.1676e-04,\n",
       "         1.0000e+00],\n",
       "       [ 1.9067e-01, -7.7002e-01,  3.4863e-01,  2.7520e+00,  3.0823e-03,\n",
       "         1.0000e+00],\n",
       "       [ 1.7822e-01,  4.5166e-02, -3.8477e-01,  3.0137e+00,  3.5839e-03,\n",
       "         1.0000e+00],\n",
       "       [ 7.8662e-01,  2.1313e-01,  2.1643e-01,  3.4355e+00,  2.2488e-03,\n",
       "         1.0000e+00],\n",
       "       [ 2.8496e-03, -2.5098e-01, -7.5977e-01,  3.5801e+00,  3.4180e-03,\n",
       "         1.0000e+00],\n",
       "       [ 8.3398e-01, -9.7412e-02,  4.2114e-02,  3.9414e+00,  4.0817e-03,\n",
       "         0.0000e+00],\n",
       "       [ 8.3398e-01, -9.7412e-02,  1.3748e-02,  3.9434e+00,  3.7498e-03,\n",
       "         0.0000e+00],\n",
       "       [ 8.3398e-01, -9.7412e-02, -1.4626e-02,  3.9512e+00,  3.5839e-03,\n",
       "         0.0000e+00],\n",
       "       [ 8.3398e-01, -9.7412e-02,  7.0496e-02,  3.9902e+00,  5.8365e-04,\n",
       "         0.0000e+00],\n",
       "       [ 6.8604e-01,  2.1667e-02,  1.2708e-01,  4.0000e+00,  2.5826e-03,\n",
       "         1.0000e+00],\n",
       "       [ 8.3398e-01, -9.7412e-02, -4.2999e-02,  4.0273e+00,  2.9163e-03,\n",
       "         0.0000e+00],\n",
       "       [ 8.3398e-01, -9.7412e-02,  1.3748e-02,  4.0547e+00,  2.7504e-03,\n",
       "         0.0000e+00],\n",
       "       [ 6.3721e-01,  3.9819e-01,  5.7520e-01,  4.0586e+00,  3.9177e-03,\n",
       "         1.0000e+00],\n",
       "       [ 9.0674e-01,  9.3140e-02,  1.0040e-01,  4.1211e+00,  1.9169e-03,\n",
       "         1.0000e+00],\n",
       "       [ 7.8662e-01,  2.1313e-01,  3.2983e-01,  4.4688e+00,  2.0828e-03,\n",
       "         1.0000e+00],\n",
       "       [ 6.9336e-02,  5.9174e-02,  1.9910e-01,  4.8281e+00,  3.9177e-03,\n",
       "         1.0000e+00],\n",
       "       [ 6.0156e-01, -7.0459e-01,  2.3682e-01,  4.9961e+00,  2.5826e-03,\n",
       "         1.0000e+00],\n",
       "       [ 9.5337e-02, -1.7578e-01, -3.5083e-01,  5.4414e+00,  3.0823e-03,\n",
       "         1.0000e+00],\n",
       "       [ 8.4229e-01,  4.2993e-01,  5.3174e-01,  5.5547e+00,  4.9171e-03,\n",
       "         1.0000e+00],\n",
       "       [ 7.1631e-01,  5.8496e-01, -6.4209e-02,  5.6055e+00,  2.0828e-03,\n",
       "         1.0000e+00],\n",
       "       [-1.1115e-01,  4.6167e-01, -6.7383e-01,  6.3945e+00,  1.0750e-02,\n",
       "         1.0000e+00],\n",
       "       [-1.1115e-01,  4.6167e-01, -6.7383e-01,  6.4336e+00,  3.9177e-03,\n",
       "         1.0000e+00],\n",
       "       [ 1.7822e-01,  4.5166e-02, -3.2617e-01,  6.6562e+00,  1.7500e-03,\n",
       "         1.0000e+00],\n",
       "       [-5.4962e-02,  1.0406e-01, -4.4995e-01,  6.6875e+00,  3.4180e-03,\n",
       "         1.0000e+00],\n",
       "       [-1.6846e-01,  8.1689e-01,  6.6553e-01,  6.8203e+00,  2.5826e-03,\n",
       "         1.0000e+00],\n",
       "       [-3.3423e-01, -1.2335e-01, -6.0303e-01,  7.7188e+00,  3.7498e-03,\n",
       "         1.0000e+00],\n",
       "       [ 6.3721e-01,  3.9819e-01,  5.4688e-01,  7.9609e+00,  3.9177e-03,\n",
       "         1.0000e+00],\n",
       "       [-1.8280e-02,  1.1200e-02, -6.3525e-01,  8.0781e+00,  2.0828e-03,\n",
       "         1.0000e+00],\n",
       "       [-5.8008e-01,  7.5244e-01,  7.5146e-01,  8.5859e+00,  1.4172e-03,\n",
       "         1.0000e+00],\n",
       "       [-4.0942e-01, -3.1738e-01,  4.3872e-01,  8.5859e+00,  1.4172e-03,\n",
       "         1.0000e+00],\n",
       "       [-2.0288e-01, -2.8491e-01,  8.3691e-01,  9.2812e+00,  1.0834e-03,\n",
       "         1.0000e+00],\n",
       "       [ 6.7627e-01, -5.1074e-01,  2.5781e-01,  9.3984e+00,  3.0823e-03,\n",
       "         1.0000e+00],\n",
       "       [ 3.6835e-02,  8.4912e-01, -2.3682e-01,  9.6172e+00,  2.5826e-03,\n",
       "         1.0000e+00],\n",
       "       [ 3.6835e-02,  8.4912e-01, -2.3682e-01,  9.6250e+00,  4.4174e-03,\n",
       "         1.0000e+00],\n",
       "       [ 1.9775e-02,  2.9883e-01,  6.3867e-01,  9.6484e+00,  4.2496e-03,\n",
       "         1.0000e+00],\n",
       "       [-1.6846e-01,  8.1689e-01,  6.6553e-01,  9.7891e+00,  7.5006e-04,\n",
       "         1.0000e+00],\n",
       "       [ 3.2495e-01,  2.0923e-01,  8.0811e-01,  9.7891e+00,  2.0828e-03,\n",
       "         1.0000e+00]], dtype=float16)"
      ]
     },
     "execution_count": 6,
     "metadata": {},
     "output_type": "execute_result"
    }
   ],
   "source": [
    "ex"
   ]
  },
  {
   "cell_type": "code",
   "execution_count": 12,
   "metadata": {},
   "outputs": [
    {
     "name": "stdout",
     "output_type": "stream",
     "text": [
      "(96, 7)\n",
      "(96, 7)\n",
      "(96, 7)\n",
      "(96, 7)\n",
      "(96, 7)\n",
      "(96, 7)\n",
      "(96, 7)\n",
      "(96, 7)\n",
      "(96, 7)\n",
      "(96, 7)\n",
      "(96, 7)\n",
      "(96, 7)\n",
      "(96, 7)\n",
      "(96, 7)\n",
      "(96, 7)\n",
      "(96, 7)\n",
      "(96, 7)\n",
      "(96, 7)\n",
      "(96, 7)\n",
      "(96, 7)\n",
      "(96, 7)\n",
      "(96, 7)\n",
      "(96, 7)\n",
      "(96, 7)\n",
      "(96, 7)\n",
      "(96, 7)\n",
      "(96, 7)\n",
      "(96, 7)\n",
      "(96, 7)\n",
      "(96, 7)\n",
      "(96, 7)\n",
      "(96, 7)\n",
      "(96, 7)\n",
      "(96, 7)\n",
      "(96, 7)\n",
      "(96, 7)\n",
      "(96, 7)\n",
      "(96, 7)\n",
      "(96, 7)\n",
      "(96, 7)\n",
      "(96, 7)\n",
      "(96, 7)\n",
      "(96, 7)\n",
      "(96, 7)\n",
      "(96, 7)\n",
      "(96, 7)\n",
      "(96, 7)\n",
      "(96, 7)\n",
      "(96, 7)\n",
      "(96, 7)\n"
     ]
    }
   ],
   "source": [
    "for i in range(50):\n",
    "    print(np.load(\"/media/eden/sandisk/projects/icecube/input/preprocessed/archive/pp_mpc96_n7_batch_100.npz\")[\"x\"][i].shape)"
   ]
  },
  {
   "cell_type": "code",
   "execution_count": 3,
   "metadata": {},
   "outputs": [],
   "source": [
    "from icecube.data.datamodule import EventDataModule\n",
    "\n",
    "dm = EventDataModule(\n",
    "    24,\n",
    "    data_dir=None,\n",
    "    train_files=\"../../input/webdatasets/batch-{051..145}.tar\",\n",
    "    val_files=\"../../input/webdatasets/batch-{146..150}.tar\",\n",
    "    batch_size=32,\n",
    "    num_workers=4,\n",
    "    batch_ids=[100, 104],\n",
    "    file_format=\"/media/eden/sandisk/projects/icecube/input/preprocessed/pp_mpc96_n7_batch_{batch_id}.npz\",\n",
    ")\n"
   ]
  },
  {
   "cell_type": "code",
   "execution_count": 4,
   "metadata": {},
   "outputs": [],
   "source": [
    "dm.setup()"
   ]
  },
  {
   "cell_type": "code",
   "execution_count": 5,
   "metadata": {},
   "outputs": [],
   "source": [
    "samples = []\n",
    "\n",
    "for i, data in enumerate(dm.trainset):\n",
    "    samples.append(data)\n",
    "    if i == 50: break"
   ]
  },
  {
   "cell_type": "code",
   "execution_count": 7,
   "metadata": {},
   "outputs": [],
   "source": [
    "import numpy as np\n",
    "\n",
    "npz = np.load(\"/media/eden/sandisk/projects/icecube/input/preprocessed/pointpicker_mpc128_n9_batch_51.npz\")"
   ]
  },
  {
   "cell_type": "code",
   "execution_count": 11,
   "metadata": {},
   "outputs": [
    {
     "data": {
      "text/plain": [
       "(array([[  0.   ,   0.525,   1.   , ...,  62.5  ,   8.5  ,   0.   ],\n",
       "        [321.   ,   2.824,   1.   , ...,  62.5  ,   8.5  ,   0.   ],\n",
       "        [362.   ,   0.975,   1.   , ...,  62.5  ,   8.5  ,   0.   ],\n",
       "        ...,\n",
       "        [  0.   ,   0.   ,  -1.   , ...,   0.   ,   0.   ,   0.   ],\n",
       "        [  0.   ,   0.   ,  -1.   , ...,   0.   ,   0.   ,   0.   ],\n",
       "        [  0.   ,   0.   ,  -1.   , ...,   0.   ,   0.   ,   0.   ]],\n",
       "       dtype=float16),\n",
       " array([5.85 , 0.927], dtype=float16))"
      ]
     },
     "execution_count": 11,
     "metadata": {},
     "output_type": "execute_result"
    }
   ],
   "source": [
    "x = npz[\"x\"][0]\n",
    "y = npz[\"y\"][0]\n",
    "x, y"
   ]
  },
  {
   "cell_type": "code",
   "execution_count": 8,
   "metadata": {},
   "outputs": [],
   "source": [
    "import torch\n",
    "import numpy as np\n",
    "\n",
    "batch = next(iter(dm.train_dataloader()))"
   ]
  },
  {
   "cell_type": "code",
   "execution_count": 10,
   "metadata": {},
   "outputs": [],
   "source": [
    "import torch\n",
    "\n",
    "\n",
    "x = torch.nn.utils.rnn.pack_padded_sequence(batch[0], batch[3], batch_first=True, enforce_sorted=False)"
   ]
  },
  {
   "cell_type": "code",
   "execution_count": 13,
   "metadata": {},
   "outputs": [],
   "source": [
    "m = torch.nn.LSTM(6, 128, batch_first=True).float()"
   ]
  },
  {
   "cell_type": "code",
   "execution_count": 16,
   "metadata": {},
   "outputs": [],
   "source": [
    "output, _ = m(x.float())"
   ]
  },
  {
   "cell_type": "code",
   "execution_count": 18,
   "metadata": {},
   "outputs": [
    {
     "ename": "TypeError",
     "evalue": "tuple indices must be integers or slices, not tuple",
     "output_type": "error",
     "traceback": [
      "\u001b[0;31m---------------------------------------------------------------------------\u001b[0m",
      "\u001b[0;31mTypeError\u001b[0m                                 Traceback (most recent call last)",
      "\u001b[0;32m/tmp/ipykernel_49707/495914494.py\u001b[0m in \u001b[0;36m<module>\u001b[0;34m\u001b[0m\n\u001b[0;32m----> 1\u001b[0;31m \u001b[0moutput\u001b[0m\u001b[0;34m[\u001b[0m\u001b[0;34m:\u001b[0m\u001b[0;34m,\u001b[0m \u001b[0;34m-\u001b[0m\u001b[0;36m1\u001b[0m\u001b[0;34m]\u001b[0m\u001b[0;34m\u001b[0m\u001b[0;34m\u001b[0m\u001b[0m\n\u001b[0m",
      "\u001b[0;31mTypeError\u001b[0m: tuple indices must be integers or slices, not tuple"
     ]
    }
   ],
   "source": [
    "output[:, -1]"
   ]
  }
 ],
 "metadata": {
  "kernelspec": {
   "display_name": "icecube",
   "language": "python",
   "name": "python3"
  },
  "language_info": {
   "codemirror_mode": {
    "name": "ipython",
    "version": 3
   },
   "file_extension": ".py",
   "mimetype": "text/x-python",
   "name": "python",
   "nbconvert_exporter": "python",
   "pygments_lexer": "ipython3",
   "version": "3.7.16"
  },
  "orig_nbformat": 4
 },
 "nbformat": 4,
 "nbformat_minor": 2
}
