{
 "cells": [
  {
   "cell_type": "code",
   "execution_count": null,
   "metadata": {},
   "outputs": [],
   "source": [
    "import sys\n",
    "from pathlib import Path\n",
    "\n",
    "prj_path = Path(\"/media/eden/sandisk/projects/icecube/\")\n",
    "sys.path.append(str(prj_path))\n",
    "from icecube.constants import *\n",
    "\n",
    "from graphnet.utilities.logging import get_logger\n",
    "logger = get_logger(log_folder=log_dir)\n",
    "\n",
    "from icecube.data.sqlite import convert_to_sqlite"
   ]
  },
  {
   "cell_type": "code",
   "execution_count": null,
   "metadata": {},
   "outputs": [],
   "source": [
    "START = 51\n",
    "END = 100\n",
    "batch_ids = list(range(START, END + 1))\n"
   ]
  },
  {
   "cell_type": "code",
   "execution_count": null,
   "metadata": {},
   "outputs": [],
   "source": [
    "convert_to_sqlite(\n",
    "    meta_data_path=metadata_path,\n",
    "    database_path=database_dir / f\"batch_{START}_{END}.db\",\n",
    "    geometry_path=geometry_path,\n",
    "    input_data_folder=train_dir,\n",
    "    batch_ids=batch_ids,\n",
    ")"
   ]
  },
  {
   "cell_type": "code",
   "execution_count": null,
   "metadata": {},
   "outputs": [],
   "source": []
  }
 ],
 "metadata": {
  "kernelspec": {
   "display_name": "Python 3 (ipykernel)",
   "language": "python",
   "name": "python3"
  },
  "language_info": {
   "codemirror_mode": {
    "name": "ipython",
    "version": 3
   },
   "file_extension": ".py",
   "mimetype": "text/x-python",
   "name": "python",
   "nbconvert_exporter": "python",
   "pygments_lexer": "ipython3",
   "version": "3.7.16"
  },
  "vscode": {
   "interpreter": {
    "hash": "5d1f5c8a913c9cf5c53f678b20c057b673b014e2f0c3fa6d6f65aab94461faf8"
   }
  }
 },
 "nbformat": 4,
 "nbformat_minor": 4
}
