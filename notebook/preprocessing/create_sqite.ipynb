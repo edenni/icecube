{
 "cells": [
  {
   "cell_type": "code",
   "execution_count": 1,
   "metadata": {},
   "outputs": [
    {
     "name": "stdout",
     "output_type": "stream",
     "text": [
      "\u001b[1;34mgraphnet\u001b[0m: \u001b[32mINFO    \u001b[0m 2023-03-06 20:13:13 - get_logger - Writing log to \u001b[1m/media/eden/sandisk/projects/icecube/logs/graphnet_20230306-201313.log\u001b[0m\n"
     ]
    }
   ],
   "source": [
    "import sys\n",
    "from pathlib import Path\n",
    "\n",
    "prj_path = Path(\"/media/eden/sandisk/projects/icecube/\")\n",
    "sys.path.append(str(prj_path))\n",
    "from icecube.constants import *\n",
    "\n",
    "from graphnet.utilities.logging import get_logger\n",
    "logger = get_logger(log_folder=log_dir)\n",
    "\n",
    "from icecube.data.sqlite import convert_to_sqlite"
   ]
  },
  {
   "cell_type": "code",
   "execution_count": 2,
   "metadata": {},
   "outputs": [],
   "source": [
    "START = 101\n",
    "END = 150\n",
    "batch_ids = list(range(START, END + 1))\n"
   ]
  },
  {
   "cell_type": "code",
   "execution_count": 3,
   "metadata": {},
   "outputs": [
    {
     "name": "stderr",
     "output_type": "stream",
     "text": [
      "Convert to sqlite:   0%|          | 0/50 [00:00<?, ?it/s]"
     ]
    }
   ],
   "source": [
    "convert_to_sqlite(\n",
    "    meta_data_path=Path(\"/media/eden/sandisk/projects/icecube/input/icecube/icecube-neutrinos-in-deep-ice/train_meta.parquet\"),\n",
    "    database_path=Path(f\"/media/eden/sandisk/projects/icecube/input/icecube/sqlite/test_batch_{START}_{END}.db\"),\n",
    "    geometry_path=Path(\"/media/eden/sandisk/projects/icecube/input/icecube/icecube-neutrinos-in-deep-ice/sensor_geometry.csv\"),\n",
    "    input_data_folder=Path(\"/media/eden/sandisk/projects/icecube/input/icecube/icecube-neutrinos-in-deep-ice/train\"),\n",
    "    batch_ids=batch_ids,\n",
    ")"
   ]
  },
  {
   "cell_type": "code",
   "execution_count": null,
   "metadata": {},
   "outputs": [],
   "source": []
  }
 ],
 "metadata": {
  "kernelspec": {
   "display_name": "Python 3 (ipykernel)",
   "language": "python",
   "name": "python3"
  },
  "language_info": {
   "codemirror_mode": {
    "name": "ipython",
    "version": 3
   },
   "file_extension": ".py",
   "mimetype": "text/x-python",
   "name": "python",
   "nbconvert_exporter": "python",
   "pygments_lexer": "ipython3",
   "version": "3.7.16"
  },
  "vscode": {
   "interpreter": {
    "hash": "5d1f5c8a913c9cf5c53f678b20c057b673b014e2f0c3fa6d6f65aab94461faf8"
   }
  }
 },
 "nbformat": 4,
 "nbformat_minor": 4
}
