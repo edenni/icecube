{
 "cells": [
  {
   "cell_type": "code",
   "execution_count": 1,
   "id": "cba9b71e-22f6-46b9-9cb2-37a9855c10bf",
   "metadata": {
    "tags": []
   },
   "outputs": [],
   "source": [
    "!pip install -q webdataset"
   ]
  },
  {
   "cell_type": "code",
   "execution_count": 9,
   "id": "d1b532fb-d1bf-4db3-aa05-e66f80b0f99f",
   "metadata": {
    "tags": []
   },
   "outputs": [],
   "source": [
    "import os\n",
    "import json\n",
    "import multiprocessing\n",
    "from pathlib import Path\n",
    "\n",
    "import polars as pl\n",
    "import webdataset as wds\n",
    "from tqdm import tqdm\n",
    "\n",
    "from graphnet.data.constants import FEATURES, TRUTH\n"
   ]
  },
  {
   "cell_type": "code",
   "execution_count": 3,
   "id": "7ab5ed63-8b30-4e14-8512-d24e18f0e732",
   "metadata": {
    "tags": []
   },
   "outputs": [],
   "source": [
    "meta_data_path = Path(\"../../raw/icecube-neutrinos-in-deep-ice/train_meta.parquet\")\n",
    "geometry_path = Path(\"../../raw/icecube-neutrinos-in-deep-ice/sensor_geometry.csv\")\n",
    "input_data_path = \"../../raw/icecube-neutrinos-in-deep-ice/train/batch_{batch_id}.parquet\"\n",
    "shard_dir = Path(\"./webdatasets\")\n",
    "shard_dir.mkdir(exist_ok=True)\n",
    "\n",
    "shard_filename = str(shard_dir / 'shards-%04d.tar')\n",
    "\n",
    "shard_size = int(1 * 1024**3)"
   ]
  },
  {
   "cell_type": "code",
   "execution_count": 4,
   "id": "f4611ed6-a141-42bf-9d0d-9e180005c896",
   "metadata": {
    "tags": []
   },
   "outputs": [],
   "source": [
    "meta_data = pl.read_parquet(meta_data_path)\n",
    "geometry_table = pl.read_csv(geometry_path, dtypes={\"sensor_id\": pl.Int16})"
   ]
  },
  {
   "cell_type": "code",
   "execution_count": 5,
   "id": "dea844a5-62a7-4135-8d1f-82e7127184b4",
   "metadata": {
    "tags": []
   },
   "outputs": [],
   "source": [
    "def get_features_truth(event_id):\n",
    "    truth = meta_data_batch.filter(pl.col(\"event_id\") == event_id)[TRUTH.KAGGLE].to_numpy()\n",
    "    features = (\n",
    "        df_batch.filter(pl.col(\"event_id\") == event_id)\n",
    "            .join(geometry_table, on=\"sensor_id\", how=\"left\")[FEATURES.KAGGLE]\n",
    "            .to_numpy()\n",
    "    )\n",
    "    return features, truth"
   ]
  },
  {
   "cell_type": "code",
   "execution_count": 6,
   "id": "170922f9-add2-4f82-ab83-560b12a50827",
   "metadata": {
    "tags": []
   },
   "outputs": [
    {
     "name": "stdout",
     "output_type": "stream",
     "text": [
      "# writing webdatasets/shards-0000.tar 0 0.0 GB 0\n"
     ]
    },
    {
     "name": "stderr",
     "output_type": "stream",
     "text": [
      "fBatch {batch_id}:  50%|██████████████████                  | 100007/200000 [52:06<55:56, 29.79it/s]"
     ]
    },
    {
     "name": "stdout",
     "output_type": "stream",
     "text": [
      "# writing webdatasets/shards-0001.tar 100000 0.8 GB 100000\n"
     ]
    },
    {
     "name": "stderr",
     "output_type": "stream",
     "text": [
      "fBatch {batch_id}: 100%|██████████████████████████████████| 200000/200000 [1:43:36<00:00, 32.17it/s]\n"
     ]
    }
   ],
   "source": [
    "batch_ids = range(51, 101)\n",
    "\n",
    "with wds.ShardWriter(shard_filename, maxsize=shard_size,) as sink:\n",
    "    for batch_id in batch_ids:\n",
    "        meta_data_batch = meta_data.filter(pl.col(\"batch_id\") == batch_id)\n",
    "        event_ids = meta_data_batch[\"event_id\"].unique()\n",
    "        df_batch = pl.read_parquet(input_data_path.format(batch_id=batch_id))\n",
    "\n",
    "        for event_id in tqdm(event_ids, desc=\"fBatch {batch_id}\"):\n",
    "            features, truth = get_features_truth(event_id)\n",
    "            sink.write({\n",
    "                \"__key__\": str(event_id),\n",
    "                \"pickle\": (\n",
    "                    features, truth,\n",
    "                )\n",
    "            })\n",
    "            \n",
    "        del df_batch, meta_data_batch\n",
    "        break\n"
   ]
  }
 ],
 "metadata": {
  "kernelspec": {
   "display_name": "Python 3 (ipykernel)",
   "language": "python",
   "name": "python3"
  },
  "language_info": {
   "codemirror_mode": {
    "name": "ipython",
    "version": 3
   },
   "file_extension": ".py",
   "mimetype": "text/x-python",
   "name": "python",
   "nbconvert_exporter": "python",
   "pygments_lexer": "ipython3",
   "version": "3.7.16"
  }
 },
 "nbformat": 4,
 "nbformat_minor": 5
}
