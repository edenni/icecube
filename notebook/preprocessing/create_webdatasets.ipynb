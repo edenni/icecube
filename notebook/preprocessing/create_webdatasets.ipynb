{
 "cells": [
  {
   "cell_type": "code",
   "execution_count": 4,
   "id": "d1b532fb-d1bf-4db3-aa05-e66f80b0f99f",
   "metadata": {
    "tags": []
   },
   "outputs": [
    {
     "name": "stdout",
     "output_type": "stream",
     "text": [
      "\u001b[1;34mgraphnet\u001b[0m: \u001b[32mINFO    \u001b[0m 2023-03-09 00:12:30 - get_logger - Writing log to \u001b[1mlogs/graphnet_20230309-001230.log\u001b[0m\n"
     ]
    }
   ],
   "source": [
    "import os\n",
    "import json\n",
    "import multiprocessing\n",
    "from pathlib import Path\n",
    "\n",
    "import polars as pl\n",
    "import webdataset as wds\n",
    "from tqdm import tqdm\n",
    "\n",
    "from graphnet.data.constants import FEATURES, TRUTH\n"
   ]
  },
  {
   "cell_type": "code",
   "execution_count": 11,
   "id": "0b04ab67",
   "metadata": {},
   "outputs": [],
   "source": [
    "import pandas as pd\n",
    "\n",
    "df = pd.read_parquet(input_data_path.format(batch_id=51))"
   ]
  },
  {
   "cell_type": "code",
   "execution_count": 14,
   "id": "3bd09d69",
   "metadata": {},
   "outputs": [
    {
     "data": {
      "text/html": [
       "<div>\n",
       "<style scoped>\n",
       "    .dataframe tbody tr th:only-of-type {\n",
       "        vertical-align: middle;\n",
       "    }\n",
       "\n",
       "    .dataframe tbody tr th {\n",
       "        vertical-align: top;\n",
       "    }\n",
       "\n",
       "    .dataframe thead th {\n",
       "        text-align: right;\n",
       "    }\n",
       "</style>\n",
       "<table border=\"1\" class=\"dataframe\">\n",
       "  <thead>\n",
       "    <tr style=\"text-align: right;\">\n",
       "      <th></th>\n",
       "      <th>time</th>\n",
       "      <th>charge</th>\n",
       "    </tr>\n",
       "    <tr>\n",
       "      <th>event_id</th>\n",
       "      <th></th>\n",
       "      <th></th>\n",
       "    </tr>\n",
       "  </thead>\n",
       "  <tbody>\n",
       "    <tr>\n",
       "      <th>162683598</th>\n",
       "      <td>6491</td>\n",
       "      <td>0.525</td>\n",
       "    </tr>\n",
       "    <tr>\n",
       "      <th>162683598</th>\n",
       "      <td>6812</td>\n",
       "      <td>2.825</td>\n",
       "    </tr>\n",
       "    <tr>\n",
       "      <th>162683598</th>\n",
       "      <td>6853</td>\n",
       "      <td>0.975</td>\n",
       "    </tr>\n",
       "    <tr>\n",
       "      <th>162683598</th>\n",
       "      <td>7091</td>\n",
       "      <td>1.125</td>\n",
       "    </tr>\n",
       "    <tr>\n",
       "      <th>162683598</th>\n",
       "      <td>7147</td>\n",
       "      <td>0.575</td>\n",
       "    </tr>\n",
       "    <tr>\n",
       "      <th>...</th>\n",
       "      <td>...</td>\n",
       "      <td>...</td>\n",
       "    </tr>\n",
       "    <tr>\n",
       "      <th>162683598</th>\n",
       "      <td>16012</td>\n",
       "      <td>0.925</td>\n",
       "    </tr>\n",
       "    <tr>\n",
       "      <th>162683598</th>\n",
       "      <td>16286</td>\n",
       "      <td>1.075</td>\n",
       "    </tr>\n",
       "    <tr>\n",
       "      <th>162683598</th>\n",
       "      <td>16756</td>\n",
       "      <td>0.325</td>\n",
       "    </tr>\n",
       "    <tr>\n",
       "      <th>162683598</th>\n",
       "      <td>17207</td>\n",
       "      <td>0.925</td>\n",
       "    </tr>\n",
       "    <tr>\n",
       "      <th>162683598</th>\n",
       "      <td>17220</td>\n",
       "      <td>0.675</td>\n",
       "    </tr>\n",
       "  </tbody>\n",
       "</table>\n",
       "<p>70 rows × 2 columns</p>\n",
       "</div>"
      ],
      "text/plain": [
       "            time  charge\n",
       "event_id                \n",
       "162683598   6491   0.525\n",
       "162683598   6812   2.825\n",
       "162683598   6853   0.975\n",
       "162683598   7091   1.125\n",
       "162683598   7147   0.575\n",
       "...          ...     ...\n",
       "162683598  16012   0.925\n",
       "162683598  16286   1.075\n",
       "162683598  16756   0.325\n",
       "162683598  17207   0.925\n",
       "162683598  17220   0.675\n",
       "\n",
       "[70 rows x 2 columns]"
      ]
     },
     "execution_count": 14,
     "metadata": {},
     "output_type": "execute_result"
    }
   ],
   "source": [
    "df.loc[162683598, [\"time\", \"charge\"]]"
   ]
  },
  {
   "cell_type": "code",
   "execution_count": 5,
   "id": "7ab5ed63-8b30-4e14-8512-d24e18f0e732",
   "metadata": {
    "tags": []
   },
   "outputs": [],
   "source": [
    "meta_data_path = Path(\"../../input/icecube/icecube-neutrinos-in-deep-ice/train_meta.parquet\")\n",
    "geometry_path = Path(\"../../input/icecube/icecube-neutrinos-in-deep-ice/sensor_geometry.csv\")\n",
    "input_data_path = \"../../input/icecube/icecube-neutrinos-in-deep-ice/train/batch_{batch_id}.parquet\"\n",
    "shard_dir = Path(\"../../input/webdatasets\")\n",
    "shard_dir.mkdir(exist_ok=True)\n",
    "\n",
    "shard_filename = str(shard_dir / 'shards-%03d.tar')\n",
    "\n",
    "shard_size = int(1 * 1024**3)"
   ]
  },
  {
   "cell_type": "code",
   "execution_count": 10,
   "id": "71d89557",
   "metadata": {},
   "outputs": [],
   "source": [
    "import datetime\n",
    "from webdataset import TarWriter\n",
    "from multiprocessing import Process\n",
    "from tqdm import tqdm\n",
    "\n",
    "def make_wds_shards(pattern, batch_ids, num_workers, map_func, **kwargs):\n",
    "    meta_data = pl.read_parquet(meta_data_path)\n",
    "    geometry_table = pl.read_csv(geometry_path, dtypes={\"sensor_id\": pl.Int16})\n",
    "    print(\"Read meta data\")\n",
    "    processes = [\n",
    "        Process(\n",
    "            target=write_partial_samples,\n",
    "            args=(\n",
    "                pattern,\n",
    "                batch_ids[::num_workers],\n",
    "                meta_data,\n",
    "                geometry_table,\n",
    "                map_func,\n",
    "                kwargs\n",
    "            )\n",
    "        )\n",
    "        for i in range(num_workers)]\n",
    "    \n",
    "    for p in processes:\n",
    "        p.start()\n",
    "    for p in processes:\n",
    "        p.join()\n",
    "\n",
    "\n",
    "def write_partial_samples(pattern, batch_ids, meta_data, geometry_table, map_func, kwargs):\n",
    "    for batch_id in batch_ids:\n",
    "        meta_data_batch = meta_data.filter(pl.col(\"batch_id\") == batch_id)\n",
    "        event_ids = meta_data_batch[\"event_id\"].unique()\n",
    "        df_batch = pl.read_parquet(input_data_path.format(batch_id=batch_id))\n",
    "\n",
    "        for event_id in tqdm(event_ids):\n",
    "            write_samples_into_single_shard(pattern, meta_data_batch, batch_id, event_id, df_batch, geometry_table, map_func, kwargs)\n",
    "\n",
    "\n",
    "def write_samples_into_single_shard(pattern, meta_data_batch, batch_id, event_id, df_batch, geometry_table, map_func, kwargs):\n",
    "    fname = pattern % batch_id\n",
    "    # print(f\"[{datetime.datetime.now()}] start to write samples to shard {fname}\")\n",
    "    stream = TarWriter(fname, **kwargs)\n",
    "\n",
    "    size = stream.write(map_func(event_id, meta_data_batch, df_batch, geometry_table))\n",
    "    stream.close()\n",
    "    # print(f\"[{datetime.datetime.now()}] complete to write samples to shard {fname}\")\n",
    "    return size\n",
    "\n",
    "def map_func(event_id, meta_data_batch, df_batch, geometry_table):\n",
    "    truth = meta_data_batch.filter(pl.col(\"event_id\") == event_id)[TRUTH.KAGGLE].to_numpy()\n",
    "    features = (\n",
    "        df_batch.filter(pl.col(\"event_id\") == event_id)\n",
    "            .join(geometry_table, on=\"sensor_id\", how=\"left\")[FEATURES.KAGGLE]\n",
    "            .to_numpy()\n",
    "    )\n",
    "    return {\n",
    "            \"__key__\": str(event_id),\n",
    "            \"pickle\": (\n",
    "                features, truth,\n",
    "            )\n",
    "        }"
   ]
  },
  {
   "cell_type": "code",
   "execution_count": 6,
   "id": "b4659134",
   "metadata": {},
   "outputs": [],
   "source": [
    "import pandas as pd\n",
    "geometry_table = pd.read_csv(geometry_path)"
   ]
  },
  {
   "cell_type": "code",
   "execution_count": 8,
   "id": "ecc387f4",
   "metadata": {},
   "outputs": [
    {
     "data": {
      "text/html": [
       "<div>\n",
       "<style scoped>\n",
       "    .dataframe tbody tr th:only-of-type {\n",
       "        vertical-align: middle;\n",
       "    }\n",
       "\n",
       "    .dataframe tbody tr th {\n",
       "        vertical-align: top;\n",
       "    }\n",
       "\n",
       "    .dataframe thead th {\n",
       "        text-align: right;\n",
       "    }\n",
       "</style>\n",
       "<table border=\"1\" class=\"dataframe\">\n",
       "  <thead>\n",
       "    <tr style=\"text-align: right;\">\n",
       "      <th></th>\n",
       "      <th>sensor_id</th>\n",
       "      <th>x</th>\n",
       "      <th>y</th>\n",
       "      <th>z</th>\n",
       "    </tr>\n",
       "  </thead>\n",
       "  <tbody>\n",
       "    <tr>\n",
       "      <th>0</th>\n",
       "      <td>0</td>\n",
       "      <td>-256.14</td>\n",
       "      <td>-521.08</td>\n",
       "      <td>496.03</td>\n",
       "    </tr>\n",
       "    <tr>\n",
       "      <th>1</th>\n",
       "      <td>1</td>\n",
       "      <td>-256.14</td>\n",
       "      <td>-521.08</td>\n",
       "      <td>479.01</td>\n",
       "    </tr>\n",
       "    <tr>\n",
       "      <th>0</th>\n",
       "      <td>0</td>\n",
       "      <td>-256.14</td>\n",
       "      <td>-521.08</td>\n",
       "      <td>496.03</td>\n",
       "    </tr>\n",
       "  </tbody>\n",
       "</table>\n",
       "</div>"
      ],
      "text/plain": [
       "   sensor_id       x       y       z\n",
       "0          0 -256.14 -521.08  496.03\n",
       "1          1 -256.14 -521.08  479.01\n",
       "0          0 -256.14 -521.08  496.03"
      ]
     },
     "execution_count": 8,
     "metadata": {},
     "output_type": "execute_result"
    }
   ],
   "source": [
    "geometry_table.loc[[0, 1, 0]]"
   ]
  },
  {
   "cell_type": "code",
   "execution_count": 11,
   "id": "337bcabe",
   "metadata": {},
   "outputs": [
    {
     "name": "stdout",
     "output_type": "stream",
     "text": [
      "Read meta data\n"
     ]
    },
    {
     "ename": "KeyboardInterrupt",
     "evalue": "",
     "output_type": "error",
     "traceback": [
      "\u001b[0;31m---------------------------------------------------------------------------\u001b[0m",
      "\u001b[0;31mKeyboardInterrupt\u001b[0m                         Traceback (most recent call last)",
      "\u001b[0;32m/tmp/ipykernel_139016/1107117518.py\u001b[0m in \u001b[0;36m<module>\u001b[0;34m\u001b[0m\n\u001b[1;32m      6\u001b[0m     \u001b[0mbatch_ids\u001b[0m\u001b[0;34m=\u001b[0m\u001b[0mbatch_ids\u001b[0m\u001b[0;34m,\u001b[0m\u001b[0;34m\u001b[0m\u001b[0;34m\u001b[0m\u001b[0m\n\u001b[1;32m      7\u001b[0m     \u001b[0mnum_workers\u001b[0m\u001b[0;34m=\u001b[0m\u001b[0;36m8\u001b[0m\u001b[0;34m,\u001b[0m\u001b[0;34m\u001b[0m\u001b[0;34m\u001b[0m\u001b[0m\n\u001b[0;32m----> 8\u001b[0;31m     \u001b[0mmap_func\u001b[0m\u001b[0;34m=\u001b[0m\u001b[0mmap_func\u001b[0m\u001b[0;34m,\u001b[0m\u001b[0;34m\u001b[0m\u001b[0;34m\u001b[0m\u001b[0m\n\u001b[0m\u001b[1;32m      9\u001b[0m )\n",
      "\u001b[0;32m/tmp/ipykernel_139016/3727627504.py\u001b[0m in \u001b[0;36mmake_wds_shards\u001b[0;34m(pattern, batch_ids, num_workers, map_func, **kwargs)\u001b[0m\n\u001b[1;32m     24\u001b[0m         \u001b[0mp\u001b[0m\u001b[0;34m.\u001b[0m\u001b[0mstart\u001b[0m\u001b[0;34m(\u001b[0m\u001b[0;34m)\u001b[0m\u001b[0;34m\u001b[0m\u001b[0;34m\u001b[0m\u001b[0m\n\u001b[1;32m     25\u001b[0m     \u001b[0;32mfor\u001b[0m \u001b[0mp\u001b[0m \u001b[0;32min\u001b[0m \u001b[0mprocesses\u001b[0m\u001b[0;34m:\u001b[0m\u001b[0;34m\u001b[0m\u001b[0;34m\u001b[0m\u001b[0m\n\u001b[0;32m---> 26\u001b[0;31m         \u001b[0mp\u001b[0m\u001b[0;34m.\u001b[0m\u001b[0mjoin\u001b[0m\u001b[0;34m(\u001b[0m\u001b[0;34m)\u001b[0m\u001b[0;34m\u001b[0m\u001b[0;34m\u001b[0m\u001b[0m\n\u001b[0m\u001b[1;32m     27\u001b[0m \u001b[0;34m\u001b[0m\u001b[0m\n\u001b[1;32m     28\u001b[0m \u001b[0;34m\u001b[0m\u001b[0m\n",
      "\u001b[0;32m~/anaconda3/envs/icecube/lib/python3.7/multiprocessing/process.py\u001b[0m in \u001b[0;36mjoin\u001b[0;34m(self, timeout)\u001b[0m\n\u001b[1;32m    138\u001b[0m         \u001b[0;32massert\u001b[0m \u001b[0mself\u001b[0m\u001b[0;34m.\u001b[0m\u001b[0m_parent_pid\u001b[0m \u001b[0;34m==\u001b[0m \u001b[0mos\u001b[0m\u001b[0;34m.\u001b[0m\u001b[0mgetpid\u001b[0m\u001b[0;34m(\u001b[0m\u001b[0;34m)\u001b[0m\u001b[0;34m,\u001b[0m \u001b[0;34m'can only join a child process'\u001b[0m\u001b[0;34m\u001b[0m\u001b[0;34m\u001b[0m\u001b[0m\n\u001b[1;32m    139\u001b[0m         \u001b[0;32massert\u001b[0m \u001b[0mself\u001b[0m\u001b[0;34m.\u001b[0m\u001b[0m_popen\u001b[0m \u001b[0;32mis\u001b[0m \u001b[0;32mnot\u001b[0m \u001b[0;32mNone\u001b[0m\u001b[0;34m,\u001b[0m \u001b[0;34m'can only join a started process'\u001b[0m\u001b[0;34m\u001b[0m\u001b[0;34m\u001b[0m\u001b[0m\n\u001b[0;32m--> 140\u001b[0;31m         \u001b[0mres\u001b[0m \u001b[0;34m=\u001b[0m \u001b[0mself\u001b[0m\u001b[0;34m.\u001b[0m\u001b[0m_popen\u001b[0m\u001b[0;34m.\u001b[0m\u001b[0mwait\u001b[0m\u001b[0;34m(\u001b[0m\u001b[0mtimeout\u001b[0m\u001b[0;34m)\u001b[0m\u001b[0;34m\u001b[0m\u001b[0;34m\u001b[0m\u001b[0m\n\u001b[0m\u001b[1;32m    141\u001b[0m         \u001b[0;32mif\u001b[0m \u001b[0mres\u001b[0m \u001b[0;32mis\u001b[0m \u001b[0;32mnot\u001b[0m \u001b[0;32mNone\u001b[0m\u001b[0;34m:\u001b[0m\u001b[0;34m\u001b[0m\u001b[0;34m\u001b[0m\u001b[0m\n\u001b[1;32m    142\u001b[0m             \u001b[0m_children\u001b[0m\u001b[0;34m.\u001b[0m\u001b[0mdiscard\u001b[0m\u001b[0;34m(\u001b[0m\u001b[0mself\u001b[0m\u001b[0;34m)\u001b[0m\u001b[0;34m\u001b[0m\u001b[0;34m\u001b[0m\u001b[0m\n",
      "\u001b[0;32m~/anaconda3/envs/icecube/lib/python3.7/multiprocessing/popen_fork.py\u001b[0m in \u001b[0;36mwait\u001b[0;34m(self, timeout)\u001b[0m\n\u001b[1;32m     46\u001b[0m                     \u001b[0;32mreturn\u001b[0m \u001b[0;32mNone\u001b[0m\u001b[0;34m\u001b[0m\u001b[0;34m\u001b[0m\u001b[0m\n\u001b[1;32m     47\u001b[0m             \u001b[0;31m# This shouldn't block if wait() returned successfully.\u001b[0m\u001b[0;34m\u001b[0m\u001b[0;34m\u001b[0m\u001b[0;34m\u001b[0m\u001b[0m\n\u001b[0;32m---> 48\u001b[0;31m             \u001b[0;32mreturn\u001b[0m \u001b[0mself\u001b[0m\u001b[0;34m.\u001b[0m\u001b[0mpoll\u001b[0m\u001b[0;34m(\u001b[0m\u001b[0mos\u001b[0m\u001b[0;34m.\u001b[0m\u001b[0mWNOHANG\u001b[0m \u001b[0;32mif\u001b[0m \u001b[0mtimeout\u001b[0m \u001b[0;34m==\u001b[0m \u001b[0;36m0.0\u001b[0m \u001b[0;32melse\u001b[0m \u001b[0;36m0\u001b[0m\u001b[0;34m)\u001b[0m\u001b[0;34m\u001b[0m\u001b[0;34m\u001b[0m\u001b[0m\n\u001b[0m\u001b[1;32m     49\u001b[0m         \u001b[0;32mreturn\u001b[0m \u001b[0mself\u001b[0m\u001b[0;34m.\u001b[0m\u001b[0mreturncode\u001b[0m\u001b[0;34m\u001b[0m\u001b[0;34m\u001b[0m\u001b[0m\n\u001b[1;32m     50\u001b[0m \u001b[0;34m\u001b[0m\u001b[0m\n",
      "\u001b[0;32m~/anaconda3/envs/icecube/lib/python3.7/multiprocessing/popen_fork.py\u001b[0m in \u001b[0;36mpoll\u001b[0;34m(self, flag)\u001b[0m\n\u001b[1;32m     26\u001b[0m         \u001b[0;32mif\u001b[0m \u001b[0mself\u001b[0m\u001b[0;34m.\u001b[0m\u001b[0mreturncode\u001b[0m \u001b[0;32mis\u001b[0m \u001b[0;32mNone\u001b[0m\u001b[0;34m:\u001b[0m\u001b[0;34m\u001b[0m\u001b[0;34m\u001b[0m\u001b[0m\n\u001b[1;32m     27\u001b[0m             \u001b[0;32mtry\u001b[0m\u001b[0;34m:\u001b[0m\u001b[0;34m\u001b[0m\u001b[0;34m\u001b[0m\u001b[0m\n\u001b[0;32m---> 28\u001b[0;31m                 \u001b[0mpid\u001b[0m\u001b[0;34m,\u001b[0m \u001b[0msts\u001b[0m \u001b[0;34m=\u001b[0m \u001b[0mos\u001b[0m\u001b[0;34m.\u001b[0m\u001b[0mwaitpid\u001b[0m\u001b[0;34m(\u001b[0m\u001b[0mself\u001b[0m\u001b[0;34m.\u001b[0m\u001b[0mpid\u001b[0m\u001b[0;34m,\u001b[0m \u001b[0mflag\u001b[0m\u001b[0;34m)\u001b[0m\u001b[0;34m\u001b[0m\u001b[0;34m\u001b[0m\u001b[0m\n\u001b[0m\u001b[1;32m     29\u001b[0m             \u001b[0;32mexcept\u001b[0m \u001b[0mOSError\u001b[0m \u001b[0;32mas\u001b[0m \u001b[0me\u001b[0m\u001b[0;34m:\u001b[0m\u001b[0;34m\u001b[0m\u001b[0;34m\u001b[0m\u001b[0m\n\u001b[1;32m     30\u001b[0m                 \u001b[0;31m# Child process not yet created. See #1731717\u001b[0m\u001b[0;34m\u001b[0m\u001b[0;34m\u001b[0m\u001b[0;34m\u001b[0m\u001b[0m\n",
      "\u001b[0;31mKeyboardInterrupt\u001b[0m: "
     ]
    }
   ],
   "source": [
    "batch_ids = range(51, 101)\n",
    "\n",
    "\n",
    "make_wds_shards(\n",
    "    pattern=shard_filename,\n",
    "    batch_ids=batch_ids,\n",
    "    num_workers=8,\n",
    "    map_func=map_func,\n",
    ")"
   ]
  },
  {
   "cell_type": "code",
   "execution_count": null,
   "id": "170922f9-add2-4f82-ab83-560b12a50827",
   "metadata": {
    "tags": []
   },
   "outputs": [],
   "source": [
    "\n",
    "# for batch_id in batch_ids:\n",
    "#     meta_data_batch = meta_data.filter(pl.col(\"batch_id\") == batch_id)\n",
    "#     event_ids = meta_data_batch[\"event_id\"].unique()\n",
    "#     df_batch = pl.read_parquet(input_data_path.format(batch_id=batch_id))\n",
    "\n",
    "#     for event_id in tqdm(event_ids, desc=f\"Batch {batch_id}\"):\n",
    "#         features, truth = get_features_truth(event_id)\n",
    "#         sink.write({\n",
    "#             \"__key__\": str(event_id),\n",
    "#             \"pickle\": (\n",
    "#                 features, truth,\n",
    "#             )\n",
    "#         })\n",
    "        \n",
    "#     del df_batch, meta_data_batch"
   ]
  }
 ],
 "metadata": {
  "kernelspec": {
   "display_name": "icecube",
   "language": "python",
   "name": "python3"
  },
  "language_info": {
   "codemirror_mode": {
    "name": "ipython",
    "version": 3
   },
   "file_extension": ".py",
   "mimetype": "text/x-python",
   "name": "python",
   "nbconvert_exporter": "python",
   "pygments_lexer": "ipython3",
   "version": "3.7.16"
  },
  "vscode": {
   "interpreter": {
    "hash": "5d1f5c8a913c9cf5c53f678b20c057b673b014e2f0c3fa6d6f65aab94461faf8"
   }
  }
 },
 "nbformat": 4,
 "nbformat_minor": 5
}
