{
 "cells": [
  {
   "cell_type": "code",
   "execution_count": 1,
   "id": "cba9b71e-22f6-46b9-9cb2-37a9855c10bf",
   "metadata": {
    "tags": []
   },
   "outputs": [],
   "source": [
    "!pip install -q webdataset"
   ]
  },
  {
   "cell_type": "code",
   "execution_count": 2,
   "id": "d1b532fb-d1bf-4db3-aa05-e66f80b0f99f",
   "metadata": {
    "tags": []
   },
   "outputs": [
    {
     "name": "stdout",
     "output_type": "stream",
     "text": [
      "\u001b[1;34mgraphnet\u001b[0m: \u001b[32mINFO    \u001b[0m 2023-03-14 20:48:45 - get_logger - Writing log to \u001b[1mlogs/graphnet_20230314-204845.log\u001b[0m\n"
     ]
    }
   ],
   "source": [
    "import os\n",
    "import json\n",
    "import multiprocessing\n",
    "from pathlib import Path\n",
    "\n",
    "import polars as pl\n",
    "import webdataset as wds\n",
    "from tqdm import tqdm\n",
    "import joblib\n",
    "import pandas as pd\n",
    "from webdataset import TarWriter\n",
    "\n",
    "from graphnet.data.constants import FEATURES, TRUTH\n"
   ]
  },
  {
   "cell_type": "code",
   "execution_count": 3,
   "id": "7ab5ed63-8b30-4e14-8512-d24e18f0e732",
   "metadata": {
    "tags": []
   },
   "outputs": [],
   "source": [
    "meta_data_path = Path(\"../../raw/icecube-neutrinos-in-deep-ice/train_meta.parquet\")\n",
    "geometry_path = Path(\"../../raw/icecube-neutrinos-in-deep-ice/sensor_geometry.csv\")\n",
    "input_data_path = \"../../raw/icecube-neutrinos-in-deep-ice/train/batch_{batch_id}.parquet\"\n",
    "shard_dir = Path(\"./webdatasets\")\n",
    "shard_dir.mkdir(exist_ok=True)\n",
    "\n",
    "shard_filename = str(shard_dir / 'shards-%04d.tar')\n",
    "\n",
    "shard_size = int(1 * 1024**3)"
   ]
  },
  {
   "cell_type": "code",
   "execution_count": 3,
   "id": "f4611ed6-a141-42bf-9d0d-9e180005c896",
   "metadata": {
    "tags": []
   },
   "outputs": [],
   "source": [
    "meta_data = pl.read_parquet(meta_data_path)\n",
    "geometry_table = pl.read_csv(geometry_path, dtypes={\"sensor_id\": pl.Int16})"
   ]
  },
  {
   "cell_type": "code",
   "execution_count": 4,
   "id": "dea844a5-62a7-4135-8d1f-82e7127184b4",
   "metadata": {
    "tags": []
   },
   "outputs": [],
   "source": [
    "def get_features_truth(event_id):\n",
    "    truth = meta_data_batch.filter(pl.col(\"event_id\") == event_id)[TRUTH.KAGGLE].to_numpy()\n",
    "    features = (\n",
    "        df_batch.filter(pl.col(\"event_id\") == event_id)\n",
    "            .join(geometry_table, on=\"sensor_id\", how=\"left\")[FEATURES.KAGGLE]\n",
    "            .to_numpy()\n",
    "    )\n",
    "    return features, truth"
   ]
  },
  {
   "cell_type": "code",
   "execution_count": 5,
   "id": "80a28632-9a5f-4104-b70f-78840b3a94c4",
   "metadata": {
    "tags": []
   },
   "outputs": [],
   "source": [
    "def write_one_batch(batch_id, meta_data, geometry_table,):\n",
    "    pattern = \"webdatasets/batch-%03d.tar\"\n",
    "    print(f\"Start saving batch {batch_id}\")\n",
    "    meta_data_batch = meta_data[meta_data.batch_id == batch_id]\n",
    "    event_ids = meta_data_batch[\"event_id\"].unique()\n",
    "    df_batch = pd.read_parquet(input_data_path.format(batch_id=batch_id))\n",
    "    df_batch[[\"x\", \"y\", \"z\"]] = geometry_table.loc[df_batch.sensor_id.values, [\"x\", \"y\", \"z\"]].values\n",
    "\n",
    "    fname = pattern % batch_id\n",
    "    stream = TarWriter(fname)\n",
    "    \n",
    "    \n",
    "    for event_id in tqdm(event_ids, desc=f\"Batch {batch_id}\"):\n",
    "        df_event = df_batch[df_batch.index == event_id].copy()\n",
    "        write_samples_into_single_shard(stream, meta_data_batch, event_id, df_event)\n",
    "\n",
    "    print(f\"Finished saving batch {batch_id}\")\n",
    "    stream.close()\n",
    "\n",
    "\n",
    "def write_samples_into_single_shard(stream, meta_data_batch, event_id, df_batch):\n",
    "    truth = meta_data_batch[meta_data_batch.event_id == event_id][TRUTH.KAGGLE].values\n",
    "    features = df_batch.loc[event_id, FEATURES.KAGGLE].values\n",
    "\n",
    "    data = {\n",
    "            \"__key__\": str(event_id),\n",
    "            \"pickle\": (\n",
    "                features, truth,\n",
    "            )\n",
    "        }\n",
    "\n",
    "    size = stream.write(data)\n",
    "    return size"
   ]
  },
  {
   "cell_type": "code",
   "execution_count": null,
   "id": "170922f9-add2-4f82-ab83-560b12a50827",
   "metadata": {
    "tags": []
   },
   "outputs": [],
   "source": [
    "\n",
    "with wds.ShardWriter(shard_filename, maxsize=shard_size,) as sink:\n",
    "    for batch_id in batch_ids:\n",
    "        meta_data_batch = meta_data.filter(pl.col(\"batch_id\") == batch_id)\n",
    "        event_ids = meta_data_batch[\"event_id\"].unique()\n",
    "        df_batch = pl.read_parquet(input_data_path.format(batch_id=batch_id))\n",
    "\n",
    "        for event_id in tqdm(event_ids, desc=\"fBatch {batch_id}\"):\n",
    "            features, truth = get_features_truth(event_id)\n",
    "            sink.write({\n",
    "                \"__key__\": str(event_id),\n",
    "                \"pickle\": (\n",
    "                    features, truth,\n",
    "                )\n",
    "            })\n",
    "            \n",
    "        del df_batch, meta_data_batch\n"
   ]
  },
  {
   "cell_type": "code",
   "execution_count": 7,
   "id": "1f62e640-4326-46c6-9af0-031acacbfc51",
   "metadata": {},
   "outputs": [],
   "source": [
    "batch_ids = range(101, 151)\n",
    "\n",
    "meta_data = pd.read_parquet(meta_data_path)\n",
    "geometry_table = pd.read_csv(geometry_path) # dtypes={\"sensor_id\": pl.Int16}\n",
    "geometry_table = geometry_table.set_index(\"sensor_id\")\n"
   ]
  },
  {
   "cell_type": "code",
   "execution_count": 8,
   "id": "e9ee71bc-dcb5-40cd-9a2e-896aac173b8f",
   "metadata": {
    "tags": []
   },
   "outputs": [
    {
     "name": "stdout",
     "output_type": "stream",
     "text": [
      "Start saving batch 101\n"
     ]
    },
    {
     "name": "stderr",
     "output_type": "stream",
     "text": [
      "Batch 101: 100%|██████████████████████████████████████████| 200000/200000 [1:39:29<00:00, 33.50it/s]\n"
     ]
    },
    {
     "name": "stdout",
     "output_type": "stream",
     "text": [
      "Finished saving batch 101\n",
      "Start saving batch 102\n"
     ]
    },
    {
     "name": "stderr",
     "output_type": "stream",
     "text": [
      "Batch 102: 100%|██████████████████████████████████████████| 200000/200000 [1:40:49<00:00, 33.06it/s]\n"
     ]
    },
    {
     "name": "stdout",
     "output_type": "stream",
     "text": [
      "Finished saving batch 102\n",
      "Start saving batch 103\n"
     ]
    },
    {
     "name": "stderr",
     "output_type": "stream",
     "text": [
      "Batch 103: 100%|██████████████████████████████████████████| 200000/200000 [1:43:57<00:00, 32.06it/s]\n"
     ]
    },
    {
     "name": "stdout",
     "output_type": "stream",
     "text": [
      "Finished saving batch 103\n",
      "Start saving batch 104\n"
     ]
    },
    {
     "name": "stderr",
     "output_type": "stream",
     "text": [
      "Batch 104: 100%|██████████████████████████████████████████| 200000/200000 [1:41:04<00:00, 32.98it/s]\n"
     ]
    },
    {
     "name": "stdout",
     "output_type": "stream",
     "text": [
      "Finished saving batch 104\n",
      "Start saving batch 105\n"
     ]
    },
    {
     "name": "stderr",
     "output_type": "stream",
     "text": [
      "Batch 105: 100%|██████████████████████████████████████████| 200000/200000 [1:38:37<00:00, 33.80it/s]\n"
     ]
    },
    {
     "name": "stdout",
     "output_type": "stream",
     "text": [
      "Finished saving batch 105\n",
      "Start saving batch 106\n"
     ]
    },
    {
     "name": "stderr",
     "output_type": "stream",
     "text": [
      "Batch 106: 100%|██████████████████████████████████████████| 200000/200000 [1:41:08<00:00, 32.96it/s]\n"
     ]
    },
    {
     "name": "stdout",
     "output_type": "stream",
     "text": [
      "Finished saving batch 106\n",
      "Start saving batch 107\n"
     ]
    },
    {
     "name": "stderr",
     "output_type": "stream",
     "text": [
      "Batch 107: 100%|██████████████████████████████████████████| 200000/200000 [1:40:00<00:00, 33.33it/s]\n"
     ]
    },
    {
     "name": "stdout",
     "output_type": "stream",
     "text": [
      "Finished saving batch 107\n",
      "Start saving batch 108\n"
     ]
    },
    {
     "name": "stderr",
     "output_type": "stream",
     "text": [
      "Batch 108: 100%|██████████████████████████████████████████| 200000/200000 [1:41:03<00:00, 32.99it/s]\n"
     ]
    },
    {
     "name": "stdout",
     "output_type": "stream",
     "text": [
      "Finished saving batch 108\n",
      "Start saving batch 109\n"
     ]
    },
    {
     "name": "stderr",
     "output_type": "stream",
     "text": [
      "Batch 109: 100%|██████████████████████████████████████████| 200000/200000 [1:40:38<00:00, 33.12it/s]\n"
     ]
    },
    {
     "name": "stdout",
     "output_type": "stream",
     "text": [
      "Finished saving batch 109\n",
      "Start saving batch 110\n"
     ]
    },
    {
     "name": "stderr",
     "output_type": "stream",
     "text": [
      "Batch 110: 100%|██████████████████████████████████████████| 200000/200000 [1:41:52<00:00, 32.72it/s]\n"
     ]
    },
    {
     "name": "stdout",
     "output_type": "stream",
     "text": [
      "Finished saving batch 110\n",
      "Start saving batch 111\n"
     ]
    },
    {
     "name": "stderr",
     "output_type": "stream",
     "text": [
      "Batch 111: 100%|██████████████████████████████████████████| 200000/200000 [1:37:40<00:00, 34.13it/s]\n"
     ]
    },
    {
     "name": "stdout",
     "output_type": "stream",
     "text": [
      "Finished saving batch 111\n",
      "Start saving batch 112\n"
     ]
    },
    {
     "name": "stderr",
     "output_type": "stream",
     "text": [
      "Batch 112: 100%|██████████████████████████████████████████| 200000/200000 [1:45:04<00:00, 31.72it/s]\n"
     ]
    },
    {
     "name": "stdout",
     "output_type": "stream",
     "text": [
      "Finished saving batch 112\n",
      "Start saving batch 113\n"
     ]
    },
    {
     "name": "stderr",
     "output_type": "stream",
     "text": [
      "Batch 113: 100%|██████████████████████████████████████████| 200000/200000 [1:42:35<00:00, 32.49it/s]\n"
     ]
    },
    {
     "name": "stdout",
     "output_type": "stream",
     "text": [
      "Finished saving batch 113\n",
      "Start saving batch 114\n"
     ]
    },
    {
     "name": "stderr",
     "output_type": "stream",
     "text": [
      "Batch 114: 100%|██████████████████████████████████████████| 200000/200000 [1:39:09<00:00, 33.62it/s]\n"
     ]
    },
    {
     "name": "stdout",
     "output_type": "stream",
     "text": [
      "Finished saving batch 114\n",
      "Start saving batch 115\n"
     ]
    },
    {
     "name": "stderr",
     "output_type": "stream",
     "text": [
      "Batch 115: 100%|██████████████████████████████████████████| 200000/200000 [1:44:46<00:00, 31.81it/s]\n"
     ]
    },
    {
     "name": "stdout",
     "output_type": "stream",
     "text": [
      "Finished saving batch 115\n",
      "Start saving batch 116\n"
     ]
    },
    {
     "name": "stderr",
     "output_type": "stream",
     "text": [
      "Batch 116: 100%|██████████████████████████████████████████| 200000/200000 [1:41:50<00:00, 32.73it/s]\n"
     ]
    },
    {
     "name": "stdout",
     "output_type": "stream",
     "text": [
      "Finished saving batch 116\n",
      "Start saving batch 117\n"
     ]
    },
    {
     "name": "stderr",
     "output_type": "stream",
     "text": [
      "Batch 117: 100%|██████████████████████████████████████████| 200000/200000 [1:41:11<00:00, 32.94it/s]\n"
     ]
    },
    {
     "name": "stdout",
     "output_type": "stream",
     "text": [
      "Finished saving batch 117\n",
      "Start saving batch 118\n"
     ]
    },
    {
     "name": "stderr",
     "output_type": "stream",
     "text": [
      "Batch 118: 100%|██████████████████████████████████████████| 200000/200000 [1:41:14<00:00, 32.92it/s]\n"
     ]
    },
    {
     "name": "stdout",
     "output_type": "stream",
     "text": [
      "Finished saving batch 118\n",
      "Start saving batch 119\n"
     ]
    },
    {
     "name": "stderr",
     "output_type": "stream",
     "text": [
      "Batch 119: 100%|██████████████████████████████████████████| 200000/200000 [1:41:25<00:00, 32.86it/s]\n"
     ]
    },
    {
     "name": "stdout",
     "output_type": "stream",
     "text": [
      "Finished saving batch 119\n",
      "Start saving batch 120\n"
     ]
    },
    {
     "name": "stderr",
     "output_type": "stream",
     "text": [
      "Batch 120: 100%|██████████████████████████████████████████| 200000/200000 [1:41:45<00:00, 32.76it/s]\n"
     ]
    },
    {
     "name": "stdout",
     "output_type": "stream",
     "text": [
      "Finished saving batch 120\n",
      "Start saving batch 121\n"
     ]
    },
    {
     "name": "stderr",
     "output_type": "stream",
     "text": [
      "Batch 121: 100%|██████████████████████████████████████████| 200000/200000 [1:35:18<00:00, 34.97it/s]\n"
     ]
    },
    {
     "name": "stdout",
     "output_type": "stream",
     "text": [
      "Finished saving batch 121\n",
      "Start saving batch 122\n"
     ]
    },
    {
     "name": "stderr",
     "output_type": "stream",
     "text": [
      "Batch 122: 100%|██████████████████████████████████████████| 200000/200000 [1:41:29<00:00, 32.84it/s]\n"
     ]
    },
    {
     "name": "stdout",
     "output_type": "stream",
     "text": [
      "Finished saving batch 122\n",
      "Start saving batch 123\n"
     ]
    },
    {
     "name": "stderr",
     "output_type": "stream",
     "text": [
      "Batch 123: 100%|██████████████████████████████████████████| 200000/200000 [1:41:42<00:00, 32.77it/s]\n"
     ]
    },
    {
     "name": "stdout",
     "output_type": "stream",
     "text": [
      "Finished saving batch 123\n",
      "Start saving batch 124\n"
     ]
    },
    {
     "name": "stderr",
     "output_type": "stream",
     "text": [
      "Batch 124: 100%|██████████████████████████████████████████| 200000/200000 [1:43:20<00:00, 32.26it/s]\n"
     ]
    },
    {
     "name": "stdout",
     "output_type": "stream",
     "text": [
      "Finished saving batch 124\n",
      "Start saving batch 125\n"
     ]
    },
    {
     "name": "stderr",
     "output_type": "stream",
     "text": [
      "Batch 125: 100%|██████████████████████████████████████████| 200000/200000 [1:44:38<00:00, 31.86it/s]\n"
     ]
    },
    {
     "name": "stdout",
     "output_type": "stream",
     "text": [
      "Finished saving batch 125\n",
      "Start saving batch 126\n"
     ]
    },
    {
     "name": "stderr",
     "output_type": "stream",
     "text": [
      "Batch 126: 100%|██████████████████████████████████████████| 200000/200000 [1:41:56<00:00, 32.70it/s]\n"
     ]
    },
    {
     "name": "stdout",
     "output_type": "stream",
     "text": [
      "Finished saving batch 126\n",
      "Start saving batch 127\n"
     ]
    },
    {
     "name": "stderr",
     "output_type": "stream",
     "text": [
      "Batch 127: 100%|██████████████████████████████████████████| 200000/200000 [1:41:42<00:00, 32.77it/s]\n"
     ]
    },
    {
     "name": "stdout",
     "output_type": "stream",
     "text": [
      "Finished saving batch 127\n",
      "Start saving batch 128\n"
     ]
    },
    {
     "name": "stderr",
     "output_type": "stream",
     "text": [
      "Batch 128: 100%|██████████████████████████████████████████| 200000/200000 [1:41:31<00:00, 32.83it/s]\n"
     ]
    },
    {
     "name": "stdout",
     "output_type": "stream",
     "text": [
      "Finished saving batch 128\n",
      "Start saving batch 129\n"
     ]
    },
    {
     "name": "stderr",
     "output_type": "stream",
     "text": [
      "Batch 129: 100%|██████████████████████████████████████████| 200000/200000 [1:40:44<00:00, 33.09it/s]\n"
     ]
    },
    {
     "name": "stdout",
     "output_type": "stream",
     "text": [
      "Finished saving batch 129\n",
      "Start saving batch 130\n"
     ]
    },
    {
     "name": "stderr",
     "output_type": "stream",
     "text": [
      "Batch 130: 100%|██████████████████████████████████████████| 200000/200000 [1:40:40<00:00, 33.11it/s]\n"
     ]
    },
    {
     "name": "stdout",
     "output_type": "stream",
     "text": [
      "Finished saving batch 130\n",
      "Start saving batch 131\n"
     ]
    },
    {
     "name": "stderr",
     "output_type": "stream",
     "text": [
      "Batch 131: 100%|██████████████████████████████████████████| 200000/200000 [1:41:38<00:00, 32.80it/s]\n"
     ]
    },
    {
     "name": "stdout",
     "output_type": "stream",
     "text": [
      "Finished saving batch 131\n",
      "Start saving batch 132\n"
     ]
    },
    {
     "name": "stderr",
     "output_type": "stream",
     "text": [
      "Batch 132: 100%|██████████████████████████████████████████| 200000/200000 [1:43:38<00:00, 32.16it/s]\n"
     ]
    },
    {
     "name": "stdout",
     "output_type": "stream",
     "text": [
      "Finished saving batch 132\n",
      "Start saving batch 133\n"
     ]
    },
    {
     "name": "stderr",
     "output_type": "stream",
     "text": [
      "Batch 133: 100%|██████████████████████████████████████████| 200000/200000 [1:43:03<00:00, 32.34it/s]\n"
     ]
    },
    {
     "name": "stdout",
     "output_type": "stream",
     "text": [
      "Finished saving batch 133\n",
      "Start saving batch 134\n"
     ]
    },
    {
     "name": "stderr",
     "output_type": "stream",
     "text": [
      "Batch 134: 100%|██████████████████████████████████████████| 200000/200000 [1:41:31<00:00, 32.83it/s]\n"
     ]
    },
    {
     "name": "stdout",
     "output_type": "stream",
     "text": [
      "Finished saving batch 134\n",
      "Start saving batch 135\n"
     ]
    },
    {
     "name": "stderr",
     "output_type": "stream",
     "text": [
      "Batch 135: 100%|██████████████████████████████████████████| 200000/200000 [1:36:38<00:00, 34.49it/s]\n"
     ]
    },
    {
     "name": "stdout",
     "output_type": "stream",
     "text": [
      "Finished saving batch 135\n",
      "Start saving batch 136\n"
     ]
    },
    {
     "name": "stderr",
     "output_type": "stream",
     "text": [
      "Batch 136: 100%|██████████████████████████████████████████| 200000/200000 [1:36:07<00:00, 34.68it/s]\n"
     ]
    },
    {
     "name": "stdout",
     "output_type": "stream",
     "text": [
      "Finished saving batch 136\n",
      "Start saving batch 137\n"
     ]
    },
    {
     "name": "stderr",
     "output_type": "stream",
     "text": [
      "Batch 137: 100%|██████████████████████████████████████████| 200000/200000 [1:39:15<00:00, 33.58it/s]\n"
     ]
    },
    {
     "name": "stdout",
     "output_type": "stream",
     "text": [
      "Finished saving batch 137\n",
      "Start saving batch 138\n"
     ]
    },
    {
     "name": "stderr",
     "output_type": "stream",
     "text": [
      "Batch 138: 100%|██████████████████████████████████████████| 200000/200000 [1:39:38<00:00, 33.45it/s]\n"
     ]
    },
    {
     "name": "stdout",
     "output_type": "stream",
     "text": [
      "Finished saving batch 138\n",
      "Start saving batch 139\n"
     ]
    },
    {
     "name": "stderr",
     "output_type": "stream",
     "text": [
      "Batch 139: 100%|██████████████████████████████████████████| 200000/200000 [1:45:01<00:00, 31.74it/s]\n"
     ]
    },
    {
     "name": "stdout",
     "output_type": "stream",
     "text": [
      "Finished saving batch 139\n",
      "Start saving batch 140\n"
     ]
    },
    {
     "name": "stderr",
     "output_type": "stream",
     "text": [
      "Batch 140: 100%|██████████████████████████████████████████| 200000/200000 [1:45:14<00:00, 31.67it/s]\n"
     ]
    },
    {
     "name": "stdout",
     "output_type": "stream",
     "text": [
      "Finished saving batch 140\n",
      "Start saving batch 141\n"
     ]
    },
    {
     "name": "stderr",
     "output_type": "stream",
     "text": [
      "Batch 141: 100%|██████████████████████████████████████████| 200000/200000 [1:40:23<00:00, 33.20it/s]\n"
     ]
    },
    {
     "name": "stdout",
     "output_type": "stream",
     "text": [
      "Finished saving batch 141\n",
      "Start saving batch 142\n"
     ]
    },
    {
     "name": "stderr",
     "output_type": "stream",
     "text": [
      "Batch 142: 100%|██████████████████████████████████████████| 200000/200000 [1:40:34<00:00, 33.14it/s]\n"
     ]
    },
    {
     "name": "stdout",
     "output_type": "stream",
     "text": [
      "Finished saving batch 142\n",
      "Start saving batch 143\n"
     ]
    },
    {
     "name": "stderr",
     "output_type": "stream",
     "text": [
      "Batch 143: 100%|██████████████████████████████████████████| 200000/200000 [1:40:07<00:00, 33.29it/s]\n"
     ]
    },
    {
     "name": "stdout",
     "output_type": "stream",
     "text": [
      "Finished saving batch 143\n",
      "Start saving batch 144\n"
     ]
    },
    {
     "name": "stderr",
     "output_type": "stream",
     "text": [
      "Batch 144: 100%|██████████████████████████████████████████| 200000/200000 [1:42:31<00:00, 32.51it/s]\n"
     ]
    },
    {
     "name": "stdout",
     "output_type": "stream",
     "text": [
      "Finished saving batch 144\n",
      "Start saving batch 145\n"
     ]
    },
    {
     "name": "stderr",
     "output_type": "stream",
     "text": [
      "Batch 145: 100%|██████████████████████████████████████████| 200000/200000 [1:42:16<00:00, 32.59it/s]\n"
     ]
    },
    {
     "name": "stdout",
     "output_type": "stream",
     "text": [
      "Finished saving batch 145\n",
      "Start saving batch 146\n"
     ]
    },
    {
     "name": "stderr",
     "output_type": "stream",
     "text": [
      "Batch 146: 100%|██████████████████████████████████████████| 200000/200000 [1:39:23<00:00, 33.54it/s]\n"
     ]
    },
    {
     "name": "stdout",
     "output_type": "stream",
     "text": [
      "Finished saving batch 146\n",
      "Start saving batch 147\n"
     ]
    },
    {
     "name": "stderr",
     "output_type": "stream",
     "text": [
      "Batch 147: 100%|██████████████████████████████████████████| 200000/200000 [1:40:18<00:00, 33.23it/s]\n"
     ]
    },
    {
     "name": "stdout",
     "output_type": "stream",
     "text": [
      "Finished saving batch 147\n",
      "Start saving batch 148\n"
     ]
    },
    {
     "name": "stderr",
     "output_type": "stream",
     "text": [
      "Batch 148: 100%|██████████████████████████████████████████| 200000/200000 [1:40:31<00:00, 33.16it/s]\n"
     ]
    },
    {
     "name": "stdout",
     "output_type": "stream",
     "text": [
      "Finished saving batch 148\n",
      "Start saving batch 149\n"
     ]
    },
    {
     "name": "stderr",
     "output_type": "stream",
     "text": [
      "Batch 149: 100%|██████████████████████████████████████████| 200000/200000 [1:39:46<00:00, 33.41it/s]\n"
     ]
    },
    {
     "name": "stdout",
     "output_type": "stream",
     "text": [
      "Finished saving batch 149\n",
      "Start saving batch 150\n"
     ]
    },
    {
     "name": "stderr",
     "output_type": "stream",
     "text": [
      "Batch 150: 100%|██████████████████████████████████████████| 200000/200000 [1:45:22<00:00, 31.63it/s]"
     ]
    },
    {
     "name": "stdout",
     "output_type": "stream",
     "text": [
      "Finished saving batch 150\n"
     ]
    },
    {
     "name": "stderr",
     "output_type": "stream",
     "text": [
      "\n"
     ]
    }
   ],
   "source": [
    "for batch_id in batch_ids:\n",
    "    write_one_batch(batch_id, meta_data, geometry_table)"
   ]
  },
  {
   "cell_type": "code",
   "execution_count": null,
   "id": "6d4c4ec6-2993-4c67-b9d7-c0a9a01f868a",
   "metadata": {},
   "outputs": [],
   "source": []
  }
 ],
 "metadata": {
  "kernelspec": {
   "display_name": "Python 3 (ipykernel)",
   "language": "python",
   "name": "python3"
  },
  "language_info": {
   "codemirror_mode": {
    "name": "ipython",
    "version": 3
   },
   "file_extension": ".py",
   "mimetype": "text/x-python",
   "name": "python",
   "nbconvert_exporter": "python",
   "pygments_lexer": "ipython3",
   "version": "3.7.16"
  }
 },
 "nbformat": 4,
 "nbformat_minor": 5
}
