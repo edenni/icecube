{
 "cells": [
  {
   "cell_type": "code",
   "execution_count": 11,
   "id": "5c3270fc-0936-43e2-9dc8-efd39a415504",
   "metadata": {
    "tags": []
   },
   "outputs": [
    {
     "name": "stdout",
     "output_type": "stream",
     "text": [
      "\u001b[1;34mgraphnet\u001b[0m: \u001b[32mINFO    \u001b[0m 2023-03-08 22:30:39 - get_logger - Writing log to \u001b[1mlogs/graphnet_20230308-223039.log\u001b[0m\n"
     ]
    }
   ],
   "source": [
    "import pickle\n",
    "from typing import List\n",
    "\n",
    "import torch\n",
    "import webdataset as wbs\n",
    "from torch.utils.data import DataLoader\n",
    "from torch_geometric.data import Data, Batch\n",
    "from graphnet.data.constants import FEATURES, TRUTH\n"
   ]
  },
  {
   "cell_type": "code",
   "execution_count": 3,
   "id": "cd6bb0fd-1ef2-43b9-b6a6-01c2826e85b7",
   "metadata": {
    "tags": []
   },
   "outputs": [],
   "source": [
    "def get_features_truth(src):\n",
    "    features, truth = pickle.loads(src[\"pickle\"])\n",
    "    \n",
    "    x = torch.as_tensor(features, dtype=torch.float32)\n",
    "    n_pulses = torch.tensor(len(x), dtype=torch.int32)\n",
    "    graph = Data(x=x, edge_index=None)\n",
    "    graph.n_pulses = n_pulses\n",
    "    graph.features = ['x', 'y', 'z', 'time', 'charge', 'auxiliary']\n",
    "    \n",
    "    target_names = [\"zenith\", \"azimuth\"]\n",
    "    for index, name in enumerate(target_names):\n",
    "        graph[name] = torch.tensor(truth[0][index], dtype=torch.float32)\n",
    "\n",
    "    for index, feature in enumerate(graph.features):\n",
    "        if feature not in [\"x\"]:\n",
    "            graph[feature] = graph.x[:, index].detach()\n",
    "                \n",
    "    x = torch.cos(graph[\"azimuth\"]) * torch.sin(graph[\"zenith\"]).reshape(-1, 1)\n",
    "    y = torch.sin(graph[\"azimuth\"]) * torch.sin(graph[\"zenith\"]).reshape(-1, 1)\n",
    "    z = torch.cos(graph[\"zenith\"]).reshape(-1, 1)\n",
    "    graph[\"direction\"] = torch.cat([x, y, z], dim=1)\n",
    "    \n",
    "    graph[\"event_id\"] = torch.tensor(int(src[\"__key__\"]), dtype=torch.int32)\n",
    "    \n",
    "    return graph"
   ]
  },
  {
   "cell_type": "code",
   "execution_count": 24,
   "id": "e83f43b0-c359-4313-bb01-7c468f8f2da3",
   "metadata": {
    "tags": []
   },
   "outputs": [],
   "source": [
    "batch_ids = [51]\n",
    "\n",
    "import polars as pl\n",
    "\n",
    "df_meta = pl.read_parquet(\"../../raw/icecube-neutrinos-in-deep-ice/train_meta.parquet\")\n",
    "n_events = df_meta.filter(pl.col(\"batch_id\").is_in(batch_ids))[\"event_id\"].n_unique()"
   ]
  },
  {
   "cell_type": "code",
   "execution_count": 4,
   "id": "dff47918-a30d-4ee6-a218-41bf35a2f125",
   "metadata": {
    "tags": []
   },
   "outputs": [],
   "source": [
    "dataset = wbs.WebDataset(\"./webdatasets/shards-{0000..0001}.tar\").map(get_features_truth).with_length(n_events)"
   ]
  },
  {
   "cell_type": "code",
   "execution_count": 9,
   "id": "d755a96c-9b70-4698-a767-b944b47933e4",
   "metadata": {
    "tags": []
   },
   "outputs": [],
   "source": [
    "def collate_fn(graphs: List[Data]) -> Batch:\n",
    "    \"\"\"Remove graphs with less than two DOM hits.\n",
    "\n",
    "    Should not occur in \"production.\n",
    "    \"\"\"\n",
    "    graphs = [g for g in graphs if g.n_pulses > 1]\n",
    "    return Batch.from_data_list(graphs)\n",
    "\n",
    "dataloader = DataLoader(dataset, batch_size=4, collate_fn=collate_fn)"
   ]
  },
  {
   "cell_type": "code",
   "execution_count": 19,
   "id": "ff999789-d442-4ca6-a2f3-70e0cc050a60",
   "metadata": {
    "tags": []
   },
   "outputs": [],
   "source": [
    "from graphnet.data.constants import FEATURES, TRUTH\n",
    "from graphnet.models import StandardModel\n",
    "from graphnet.models.detector.icecube import IceCubeKaggle\n",
    "from graphnet.models.gnn import DynEdge\n",
    "from graphnet.models.graph_builders import KNNGraphBuilder\n",
    "from graphnet.models.task.reconstruction import \\\n",
    "    DirectionReconstructionWithKappa\n",
    "from graphnet.training.callbacks import PiecewiseLinearLR, ProgressBar\n",
    "from graphnet.training.labels import Direction\n",
    "from graphnet.training.loss_functions import VonMisesFisher3DLoss\n",
    "from graphnet.training.utils import make_dataloader\n",
    "from typing import Dict, Any\n",
    "from torch.optim import SGD\n",
    "\n",
    "\n",
    "config = {\n",
    "    \"path\": \"/media/eden/sandisk/projects/icecube/input/sqlite/batch_51_100.db\",\n",
    "    \"pulsemap\": \"pulse_table\",\n",
    "    \"truth_table\": \"meta_table\",\n",
    "    \"features\": FEATURES.KAGGLE,\n",
    "    \"truth\": TRUTH.KAGGLE,\n",
    "    \"index_column\": \"event_id\",\n",
    "    \"batch_size\": 64,\n",
    "    \"num_workers\": 4,\n",
    "    \"target\": \"direction\",\n",
    "    \"run_name_tag\": \"batch_1_50\",\n",
    "    \"early_stopping_patience\": 5,\n",
    "    \"fit\": {\n",
    "        \"max_epochs\": 100,\n",
    "        \"gpus\": [0],\n",
    "        \"distribution_strategy\": None,\n",
    "        \"limit_train_batches\": 1.0,  # debug\n",
    "        \"limit_val_batches\": 1.0,\n",
    "        \"precision\": 16,\n",
    "    },\n",
    "    \"base_dir\": \"training\",\n",
    "    \"lr\": 0.01,\n",
    "}\n",
    "\n",
    "\n",
    "def build_model(\n",
    "    config: Dict[str, Any], train_dataloader: Any\n",
    ") -> StandardModel:\n",
    "    \"\"\"Builds GNN from config\"\"\"\n",
    "    # Building model\n",
    "    detector = IceCubeKaggle(\n",
    "        graph_builder=KNNGraphBuilder(nb_nearest_neighbours=8),\n",
    "    )\n",
    "    gnn = DynEdge(\n",
    "        nb_inputs=detector.nb_outputs,\n",
    "        global_pooling_schemes=[\"min\", \"max\", \"mean\"],\n",
    "    )\n",
    "    gnn._activation = torch.nn.Mish()\n",
    "\n",
    "    if config[\"target\"] == \"direction\":\n",
    "        task = DirectionReconstructionWithKappa(\n",
    "            hidden_size=gnn.nb_outputs,\n",
    "            target_labels=config[\"target\"],\n",
    "            loss_function=VonMisesFisher3DLoss(),\n",
    "        )\n",
    "        prediction_columns = [\n",
    "            config[\"target\"] + \"_x\",\n",
    "            config[\"target\"] + \"_y\",\n",
    "            config[\"target\"] + \"_z\",\n",
    "            config[\"target\"] + \"_kappa\",\n",
    "        ]\n",
    "        additional_attributes = [\"zenith\", \"azimuth\", \"event_id\"]\n",
    "\n",
    "    model = StandardModel(\n",
    "        detector=detector,\n",
    "        gnn=gnn,\n",
    "        tasks=[task],\n",
    "        optimizer_class=SGD,\n",
    "        optimizer_kwargs={\n",
    "            \"lr\": config[\"lr\"],\n",
    "            \"momentum\": 0.9,\n",
    "            \"nesterov\": True,\n",
    "            # \"weight_decay\": 1e-4,\n",
    "        },\n",
    "    )\n",
    "    model.prediction_columns = prediction_columns\n",
    "    model.additional_attributes = additional_attributes\n",
    "\n",
    "    return model"
   ]
  },
  {
   "cell_type": "code",
   "execution_count": 20,
   "id": "ef832215-3e19-4d50-8f48-6b73c15ba645",
   "metadata": {
    "tags": []
   },
   "outputs": [],
   "source": [
    "model = build_model(config, dataloader)"
   ]
  },
  {
   "cell_type": "code",
   "execution_count": 23,
   "id": "48187f78-3adb-41b5-9865-33ba7a40dabd",
   "metadata": {
    "tags": []
   },
   "outputs": [
    {
     "name": "stderr",
     "output_type": "stream",
     "text": [
      "Using 16bit None Automatic Mixed Precision (AMP)\n",
      "GPU available: True (cuda), used: True\n",
      "TPU available: False, using: 0 TPU cores\n",
      "IPU available: False, using: 0 IPUs\n",
      "HPU available: False, using: 0 HPUs\n",
      "`Trainer(limit_train_batches=1.0)` was configured so 100% of the batches per epoch will be used..\n",
      "`Trainer(limit_val_batches=1.0)` was configured so 100% of the batches will be used..\n",
      "Using 16bit None Automatic Mixed Precision (AMP)\n",
      "GPU available: True (cuda), used: True\n",
      "TPU available: False, using: 0 TPU cores\n",
      "IPU available: False, using: 0 IPUs\n",
      "HPU available: False, using: 0 HPUs\n",
      "`Trainer(limit_train_batches=1.0)` was configured so 100% of the batches per epoch will be used..\n",
      "`Trainer(limit_val_batches=1.0)` was configured so 100% of the batches will be used..\n",
      "/home/eden/anaconda3/envs/icecube/lib/python3.7/site-packages/pytorch_lightning/trainer/configuration_validator.py:110: PossibleUserWarning: You defined a `validation_step` but have no `val_dataloader`. Skipping val loop.\n",
      "  category=PossibleUserWarning,\n",
      "LOCAL_RANK: 0 - CUDA_VISIBLE_DEVICES: [0]\n",
      "\n",
      "  | Name      | Type             | Params\n",
      "-----------------------------------------------\n",
      "0 | _detector | IceCubeKaggle    | 0     \n",
      "1 | _gnn      | DynEdge          | 1.3 M \n",
      "2 | _tasks    | ModuleList       | 387   \n",
      "3 | mae       | MeanAngularError | 0     \n",
      "-----------------------------------------------\n",
      "1.3 M     Trainable params\n",
      "0         Non-trainable params\n",
      "1.3 M     Total params\n",
      "2.697     Total estimated model params size (MB)\n",
      "/home/eden/anaconda3/envs/icecube/lib/python3.7/site-packages/pytorch_lightning/trainer/connectors/data_connector.py:229: PossibleUserWarning: The dataloader, train_dataloader, does not have many workers which may be a bottleneck. Consider increasing the value of the `num_workers` argument` (try 12 which is the number of cpus on this machine) in the `DataLoader` init to improve performance.\n",
      "  category=PossibleUserWarning,\n"
     ]
    },
    {
     "data": {
      "application/vnd.jupyter.widget-view+json": {
       "model_id": "f825d37fae9d4ca88b11340eb5ed9b4f",
       "version_major": 2,
       "version_minor": 0
      },
      "text/plain": [
       "Training: 0it [00:00, ?it/s]"
      ]
     },
     "metadata": {},
     "output_type": "display_data"
    },
    {
     "name": "stderr",
     "output_type": "stream",
     "text": [
      "/home/eden/anaconda3/envs/icecube/lib/python3.7/site-packages/pytorch_lightning/trainer/call.py:48: UserWarning: Detected KeyboardInterrupt, attempting graceful shutdown...\n",
      "  rank_zero_warn(\"Detected KeyboardInterrupt, attempting graceful shutdown...\")\n"
     ]
    }
   ],
   "source": [
    "model.fit(dataloader, **config[\"fit\"])"
   ]
  },
  {
   "cell_type": "code",
   "execution_count": 28,
   "id": "e39d8d20-b120-44af-a405-a15fe9a709e3",
   "metadata": {
    "tags": []
   },
   "outputs": [],
   "source": [
    "for batch in dataloader:\n",
    "    y = model(batch.cuda())\n",
    "    break"
   ]
  }
 ],
 "metadata": {
  "kernelspec": {
   "display_name": "Python 3 (ipykernel)",
   "language": "python",
   "name": "python3"
  },
  "language_info": {
   "codemirror_mode": {
    "name": "ipython",
    "version": 3
   },
   "file_extension": ".py",
   "mimetype": "text/x-python",
   "name": "python",
   "nbconvert_exporter": "python",
   "pygments_lexer": "ipython3",
   "version": "3.7.16"
  }
 },
 "nbformat": 4,
 "nbformat_minor": 5
}
