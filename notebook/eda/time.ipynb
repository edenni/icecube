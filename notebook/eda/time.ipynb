{
 "cells": [
  {
   "cell_type": "code",
   "execution_count": 1,
   "metadata": {},
   "outputs": [],
   "source": [
    "import warnings\n",
    "from pathlib import Path\n",
    "\n",
    "import numpy as np\n",
    "import pandas as pd\n",
    "import polars as pl\n",
    "import matplotlib.pyplot as plt\n",
    "import seaborn as sns\n",
    "import plotly.express as px\n",
    "import plotly.graph_objects as go\n",
    "from tqdm import tqdm\n",
    "\n",
    "\n",
    "warnings.filterwarnings('ignore')\n",
    "\n",
    "project_dir = Path(\"/media/eden/sandisk/projects/icecube/\")\n",
    "data_dir = project_dir / \"input\" / \"icecube-neutrinos-in-deep-ice\"\n",
    "train_meta = data_dir / \"train_meta.parquet\"\n",
    "batch_one = data_dir / \"train\" / \"batch_1.parquet\"\n",
    "geometry_table = data_dir / \"sensor_geometry.csv\"\n",
    "submission = data_dir / \"sample_submission.parquet\""
   ]
  },
  {
   "cell_type": "code",
   "execution_count": 2,
   "metadata": {},
   "outputs": [],
   "source": [
    "df_batch = pl.read_parquet(batch_one)\n"
   ]
  },
  {
   "cell_type": "code",
   "execution_count": 35,
   "metadata": {},
   "outputs": [
    {
     "data": {
      "text/plain": [
       "77785"
      ]
     },
     "execution_count": 35,
     "metadata": {},
     "output_type": "execute_result"
    }
   ],
   "source": [
    "df_batch[\"time\"].max()"
   ]
  },
  {
   "cell_type": "code",
   "execution_count": 36,
   "metadata": {},
   "outputs": [],
   "source": [
    "events = df_batch[\"event_id\"].unique()[:5000]\n",
    "df_samples = df_batch.filter(pl.col(\"event_id\").is_in(events))"
   ]
  },
  {
   "cell_type": "code",
   "execution_count": 43,
   "metadata": {},
   "outputs": [
    {
     "data": {
      "image/png": "[encoded data removed]",
      "text/plain": [
       "<Figure size 1000x500 with 2 Axes>"
      ]
     },
     "metadata": {},
     "output_type": "display_data"
    }
   ],
   "source": [
    "bins = 100\n",
    "\n",
    "fig = plt.figure(figsize=(10, 5))\n",
    "\n",
    "fig.add_subplot(1, 2, 1)\n",
    "plt.hist(df_samples[\"time\"], bins=bins)\n",
    "\n",
    "fig.add_subplot(1, 2, 2)\n",
    "plt.hist((df_samples[\"time\"] - 1e4)/ 3e4, bins=bins);"
   ]
  },
  {
   "cell_type": "code",
   "execution_count": 44,
   "metadata": {},
   "outputs": [],
   "source": [
    "import torch\n",
    "import torch.nn as nn\n",
    "\n",
    "class AddPositionalEncoding(nn.Module):\n",
    "    def __init__(\n",
    "        self,\n",
    "        embed_dim: int,\n",
    "        max_time: int,\n",
    "    ) -> None:\n",
    "        super().__init__()\n",
    "        self.embed_dim = embed_dim\n",
    "        self.max_time = max_time\n",
    "        positional_encoding_weight: torch.Tensor = self._initialize_weight()\n",
    "\n",
    "        print(positional_encoding_weight.shape)\n",
    "        self.register_buffer(\n",
    "            \"positional_encoding_weight\", positional_encoding_weight\n",
    "        )\n",
    "\n",
    "    def forward(self, x: torch.Tensor) -> torch.Tensor:\n",
    "        seq_len = x.size(1)\n",
    "        return x + self.positional_encoding_weight[:seq_len, :].unsqueeze(0)\n",
    "\n",
    "    def _get_positional_encoding(self, pos: int, i: int) -> float:\n",
    "        w = pos / (10000 ** (((2 * i) // 2) / self.embed_dim))\n",
    "        if i % 2 == 0:\n",
    "            return np.sin(w)\n",
    "        else:\n",
    "            return np.cos(w)\n",
    "\n",
    "    def _initialize_weight(self) -> torch.Tensor:\n",
    "        positional_encoding_weight = [\n",
    "            [\n",
    "                self._get_positional_encoding(pos, i)\n",
    "                for i in range(1, self.embed_dim + 1)\n",
    "            ]\n",
    "            for pos in range(1, self.max_time + 1)\n",
    "        ]\n",
    "        return torch.tensor(positional_encoding_weight).float()"
   ]
  },
  {
   "cell_type": "code",
   "execution_count": 45,
   "metadata": {},
   "outputs": [],
   "source": [
    "one_event = df_batch.filter(pl.col(\"event_id\") == 24)"
   ]
  },
  {
   "cell_type": "code",
   "execution_count": 57,
   "metadata": {},
   "outputs": [],
   "source": [
    "df_sensor = pl.read_csv(geometry_table, dtypes={\"sensor_id\": pl.datatypes.Int16})"
   ]
  },
  {
   "cell_type": "code",
   "execution_count": 61,
   "metadata": {},
   "outputs": [],
   "source": [
    "one_event = one_event.join(df_sensor, on=\"sensor_id\").drop(columns=[\"sensor_id\", \"event_id\"])"
   ]
  },
  {
   "cell_type": "code",
   "execution_count": 67,
   "metadata": {},
   "outputs": [],
   "source": [
    "one_event = one_event.sort(by=\"time\")"
   ]
  },
  {
   "cell_type": "code",
   "execution_count": 73,
   "metadata": {},
   "outputs": [],
   "source": [
    "one_event = one_event.with_columns(\n",
    "    (pl.col(\"time\") - pl.col(\"time\").min())\n",
    ")"
   ]
  },
  {
   "cell_type": "code",
   "execution_count": null,
   "metadata": {},
   "outputs": [],
   "source": [
    "pe = AddPositionalEncoding(128, 256)"
   ]
  }
 ],
 "metadata": {
  "kernelspec": {
   "display_name": "icecube",
   "language": "python",
   "name": "python3"
  },
  "language_info": {
   "codemirror_mode": {
    "name": "ipython",
    "version": 3
   },
   "file_extension": ".py",
   "mimetype": "text/x-python",
   "name": "python",
   "nbconvert_exporter": "python",
   "pygments_lexer": "ipython3",
   "version": "3.7.16"
  },
  "orig_nbformat": 4,
  "vscode": {
   "interpreter": {
    "hash": "5d1f5c8a913c9cf5c53f678b20c057b673b014e2f0c3fa6d6f65aab94461faf8"
   }
  }
 },
 "nbformat": 4,
 "nbformat_minor": 2
}
