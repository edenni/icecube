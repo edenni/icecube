{
 "cells": [
  {
   "cell_type": "code",
   "execution_count": 1,
   "id": "cf824401",
   "metadata": {
    "_cell_guid": "b1076dfc-b9ad-4769-8c92-a6c4dae69d19",
    "_uuid": "8f2839f25d086af736a60e9eeb907d3b93b6e0e5",
    "execution": {
     "iopub.execute_input": "2023-03-18T15:14:22.046052Z",
     "iopub.status.busy": "2023-03-18T15:14:22.045212Z",
     "iopub.status.idle": "2023-03-18T15:14:26.600145Z",
     "shell.execute_reply": "2023-03-18T15:14:26.599185Z"
    },
    "papermill": {
     "duration": 4.564033,
     "end_time": "2023-03-18T15:14:26.603124",
     "exception": false,
     "start_time": "2023-03-18T15:14:22.039091",
     "status": "completed"
    },
    "tags": []
   },
   "outputs": [],
   "source": [
    "# Import Modules\n",
    "import gc\n",
    "import os\n",
    "import multiprocessing\n",
    "import time\n",
    "import numpy as np\n",
    "import pandas as pd\n",
    "import pyarrow.parquet as pq\n",
    "import torch\n",
    "from pytorch_lightning import Trainer\n",
    "from torch.utils.data import DataLoader, TensorDataset\n",
    "from tqdm import tqdm\n",
    "import polars as pl\n",
    "\n",
    "from icecube.utils.metrics import angular_dist_score"
   ]
  },
  {
   "cell_type": "code",
   "execution_count": 18,
   "id": "d7efe40d",
   "metadata": {},
   "outputs": [],
   "source": [
    "test_meta_df = pl.read_parquet(\n",
    "    \"/media/eden/sandisk/projects/icecube/input/icecube/icecube-neutrinos-in-deep-ice/train_meta.parquet\"\n",
    ")\n",
    "test_meta_df = test_meta_df.filter(\n",
    "    pl.col(\"batch_id\").is_in(list(range(656, 661)))\n",
    ").to_pandas()"
   ]
  },
  {
   "cell_type": "code",
   "execution_count": 47,
   "id": "7ca5481f",
   "metadata": {
    "execution": {
     "iopub.execute_input": "2023-03-18T15:14:26.615284Z",
     "iopub.status.busy": "2023-03-18T15:14:26.614789Z",
     "iopub.status.idle": "2023-03-18T15:14:26.620356Z",
     "shell.execute_reply": "2023-03-18T15:14:26.619404Z"
    },
    "papermill": {
     "duration": 0.013467,
     "end_time": "2023-03-18T15:14:26.622401",
     "exception": false,
     "start_time": "2023-03-18T15:14:26.608934",
     "status": "completed"
    },
    "tags": []
   },
   "outputs": [],
   "source": [
    "# Directories and constants\n",
    "home_dir = \"/media/eden/sandisk/projects/icecube/input/icecube/icecube-neutrinos-in-deep-ice/\"\n",
    "test_format = home_dir + \"train/batch_{batch_id:d}.parquet\"\n",
    "model_home = \"/media/eden/sandisk/projects/icecube/models/lstm/\"\n",
    "\n",
    "# Model(s)\n",
    "model_names = [\n",
    "    \"lstm_mae_1.026_epoch_058.script\",\n",
    "    \"gru_mae_1.026_epoch_052.script\",\n",
    "    \"lstm_mae_1.028_epoch_064_shift.script\",\n",
    "    \"gru_mae_1.028_epoch_033_shift.script\",\n",
    "]\n",
    "model_weights = np.array([0.35, 0.35, 0.15, 0.15])\n",
    "is_shifted = [False, False, True, True]"
   ]
  },
  {
   "cell_type": "markdown",
   "id": "fae61c32",
   "metadata": {
    "papermill": {
     "duration": 0.004446,
     "end_time": "2023-03-18T15:14:26.631289",
     "exception": false,
     "start_time": "2023-03-18T15:14:26.626843",
     "status": "completed"
    },
    "tags": []
   },
   "source": [
    "## Load Model(s)"
   ]
  },
  {
   "cell_type": "code",
   "execution_count": 48,
   "id": "ff091433",
   "metadata": {
    "execution": {
     "iopub.execute_input": "2023-03-18T15:14:26.642253Z",
     "iopub.status.busy": "2023-03-18T15:14:26.641465Z",
     "iopub.status.idle": "2023-03-18T15:14:44.210762Z",
     "shell.execute_reply": "2023-03-18T15:14:44.209515Z"
    },
    "papermill": {
     "duration": 17.577503,
     "end_time": "2023-03-18T15:14:44.213581",
     "exception": false,
     "start_time": "2023-03-18T15:14:26.636078",
     "status": "completed"
    },
    "tags": []
   },
   "outputs": [
    {
     "name": "stdout",
     "output_type": "stream",
     "text": [
      "\n",
      "========== Model File: lstm_mae_1.026_epoch_058.script\n",
      "\n",
      "========== Model File: gru_mae_1.026_epoch_052.script\n",
      "\n",
      "========== Model File: lstm_mae_1.028_epoch_064_shift.script\n",
      "\n",
      "========== Model File: gru_mae_1.028_epoch_033_shift.script\n",
      "\n",
      "==== Model Parameters\n",
      "Bin Numbers: 24\n",
      "Max pulse count: 96\n",
      "Feature count: 6\n"
     ]
    }
   ],
   "source": [
    "# Load Models\n",
    "models = []\n",
    "for model_name in model_names:\n",
    "    print(f\"\\n========== Model File: {model_name}\")\n",
    "\n",
    "    # Load Model\n",
    "    model_path = model_home + model_name\n",
    "    model = torch.jit.load(model_path)\n",
    "    models.append(model)\n",
    "\n",
    "# Get Model Parameters\n",
    "# pulse_count = model.inputs[0].shape[1]\n",
    "# feature_count = model.inputs[0].shape[2]\n",
    "output_bins = model.fc.weight.shape[0]\n",
    "bin_num = int(np.sqrt(output_bins))\n",
    "feature_count = model.lstm.weight_ih_l0.shape[1]\n",
    "pulse_count = 96\n",
    "\n",
    "# Model Parameter Summary\n",
    "print(\"\\n==== Model Parameters\")\n",
    "print(f\"Bin Numbers: {bin_num}\")\n",
    "print(f\"Max pulse count: {pulse_count}\")\n",
    "print(f\"Feature count: {feature_count}\")"
   ]
  },
  {
   "cell_type": "markdown",
   "id": "64cee897",
   "metadata": {
    "papermill": {
     "duration": 0.004759,
     "end_time": "2023-03-18T15:14:44.223718",
     "exception": false,
     "start_time": "2023-03-18T15:14:44.218959",
     "status": "completed"
    },
    "tags": []
   },
   "source": [
    "## Detector Information"
   ]
  },
  {
   "cell_type": "code",
   "execution_count": 31,
   "id": "eb474327",
   "metadata": {
    "execution": {
     "iopub.execute_input": "2023-03-18T15:14:44.235011Z",
     "iopub.status.busy": "2023-03-18T15:14:44.234699Z",
     "iopub.status.idle": "2023-03-18T15:14:44.262419Z",
     "shell.execute_reply": "2023-03-18T15:14:44.261123Z"
    },
    "papermill": {
     "duration": 0.036823,
     "end_time": "2023-03-18T15:14:44.265284",
     "exception": false,
     "start_time": "2023-03-18T15:14:44.228461",
     "status": "completed"
    },
    "tags": []
   },
   "outputs": [
    {
     "name": "stdout",
     "output_type": "stream",
     "text": [
      "time valid length: 6199.700247193777 ns\n"
     ]
    }
   ],
   "source": [
    "# Load sensor_geometry\n",
    "sensor_geometry_df = pd.read_csv(home_dir + \"sensor_geometry.csv\")\n",
    "\n",
    "# Get Sensor Information\n",
    "sensor_x = sensor_geometry_df.x\n",
    "sensor_y = sensor_geometry_df.y\n",
    "sensor_z = sensor_geometry_df.z\n",
    "\n",
    "# Detector constants\n",
    "c_const = 0.299792458  # speed of light [m/ns]\n",
    "\n",
    "# Sensor Min / Max Coordinates\n",
    "x_min = sensor_x.min()\n",
    "x_max = sensor_x.max()\n",
    "y_min = sensor_y.min()\n",
    "y_max = sensor_y.max()\n",
    "z_min = sensor_z.min()\n",
    "z_max = sensor_z.max()\n",
    "\n",
    "detector_length = np.sqrt(\n",
    "    (x_max - x_min) ** 2 + (y_max - y_min) ** 2 + (z_max - z_min) ** 2\n",
    ")\n",
    "t_valid_length = detector_length / c_const\n",
    "\n",
    "print(f\"time valid length: {t_valid_length} ns\")"
   ]
  },
  {
   "cell_type": "markdown",
   "id": "15fa122d",
   "metadata": {
    "papermill": {
     "duration": 0.004848,
     "end_time": "2023-03-18T15:14:44.275969",
     "exception": false,
     "start_time": "2023-03-18T15:14:44.271121",
     "status": "completed"
    },
    "tags": []
   },
   "source": [
    "## Angle encoding edges\n",
    "\n",
    "- It is efficient to train the model by classification task, initially.\n",
    "- azimuth and zenith are independent\n",
    "- azimuth distribution is flat and zenith distribution is sinusoidal.\n",
    "  - Flat on the spherical surface\n",
    "  - $\\phi > \\pi$ events are a little bit rarer than $\\phi < \\pi$ events, (maybe) because of the neutrino attenuation by earth.\n",
    "- So, the uniform bin is used for azimuth, and $\\left| \\cos \\right|$ bin is used for zenith"
   ]
  },
  {
   "cell_type": "code",
   "execution_count": 32,
   "id": "9bc44d2d",
   "metadata": {
    "execution": {
     "iopub.execute_input": "2023-03-18T15:14:44.287733Z",
     "iopub.status.busy": "2023-03-18T15:14:44.287421Z",
     "iopub.status.idle": "2023-03-18T15:14:44.296854Z",
     "shell.execute_reply": "2023-03-18T15:14:44.295897Z"
    },
    "papermill": {
     "duration": 0.018601,
     "end_time": "2023-03-18T15:14:44.299966",
     "exception": false,
     "start_time": "2023-03-18T15:14:44.281365",
     "status": "completed"
    },
    "tags": []
   },
   "outputs": [
    {
     "name": "stdout",
     "output_type": "stream",
     "text": [
      "[0.         0.26179939 0.52359878 0.78539816 1.04719755 1.30899694\n",
      " 1.57079633 1.83259571 2.0943951  2.35619449 2.61799388 2.87979327\n",
      " 3.14159265 3.40339204 3.66519143 3.92699082 4.1887902  4.45058959\n",
      " 4.71238898 4.97418837 5.23598776 5.49778714 5.75958653 6.02138592\n",
      " 6.28318531]\n",
      "[0.         0.41113786 0.58568554 0.72273425 0.84106867 0.94796974\n",
      " 1.04719755 1.1410209  1.23095942 1.31811607 1.40334825 1.48736624\n",
      " 1.57079633 1.65422641 1.73824441 1.82347658 1.91063324 2.00057176\n",
      " 2.0943951  2.19362291 2.30052398 2.41885841 2.55590711 2.73045479\n",
      " 3.14159265]\n"
     ]
    }
   ],
   "source": [
    "# Create Azimuth Edges\n",
    "azimuth_edges = np.linspace(0, 2 * np.pi, bin_num + 1)\n",
    "azimuth_shift = (azimuth_edges[1] - azimuth_edges[0]) / 2.0\n",
    "print(azimuth_edges)\n",
    "\n",
    "# Create Zenith Edges\n",
    "zenith_edges = []\n",
    "zenith_edges.append(0)\n",
    "for bin_idx in range(1, bin_num):\n",
    "    zenith_edges.append(np.arccos(np.cos(zenith_edges[-1]) - 2 / (bin_num)))\n",
    "zenith_edges.append(np.pi)\n",
    "zenith_edges = np.array(zenith_edges)\n",
    "print(zenith_edges)"
   ]
  },
  {
   "cell_type": "markdown",
   "id": "dadfd433",
   "metadata": {
    "papermill": {
     "duration": 0.005148,
     "end_time": "2023-03-18T15:14:44.310937",
     "exception": false,
     "start_time": "2023-03-18T15:14:44.305789",
     "status": "completed"
    },
    "tags": []
   },
   "source": [
    "## Define a function converts from prediction to angles\n",
    "\n",
    "- Calculation of the mean-vector in a bin $\\theta \\in ( \\theta_0, \\theta_1 )$ and $\\phi \\in ( \\phi_0, \\phi_1 )$\n",
    "  - $\\vec{r} \\left( \\theta, ~ \\phi \\right) = \\left< \\sin \\theta \\cos \\phi, ~ \\sin \\theta \\sin \\phi, ~ \\cos \\theta \\right>$\n",
    "  - $\\bar{\\vec{r}} = \\frac{ \\int_{\\theta_{0}}^{\\theta_{1}} \\int_{\\phi_0}^{\\phi_1} \\vec{r} \\left( \\theta, ~ \\phi \\right) \\sin \\theta \\,d\\phi \\,d\\theta }{ \\int_{\\theta_{0}}^{\\theta_{1}} \\int_{\\phi_0}^{\\phi_1} 1 \\sin \\theta \\,d\\phi \\,d\\theta }$\n",
    "  - $ \\int_{\\theta_{0}}^{\\theta_{1}} \\int_{\\phi_0}^{\\phi_1} 1 \\sin \\theta \\,d\\phi \\,d\\theta = \\left( \\phi_1 - \\phi_0 \\right) \\left( \\cos \\theta_0 - \\cos \\theta_1 \\right)$\n",
    "  - $\n",
    "\\int_{\\theta_{0}}^{\\theta_{1}} \\int_{\\phi_0}^{\\phi_1} {r}_{x} \\left( \\theta, ~ \\phi \\right) \\sin \\theta \\,d\\phi \\,d\\theta = \n",
    "\\int_{\\theta_{0}}^{\\theta_{1}} \\int_{\\phi_0}^{\\phi_1} \\sin^2 \\theta \\cos \\phi \\,d\\phi \\,d\\theta = \n",
    "\\left( \\sin \\phi_1 - \\sin \\phi_0 \\right) \\left( \\frac{\\theta_1 - \\theta_0}{2} - \\frac{\\sin 2 \\theta_1 - \\sin 2 \\theta_0}{4} \\right)\n",
    "$\n",
    "  - $\n",
    "\\int_{\\theta_{0}}^{\\theta_{1}} \\int_{\\phi_0}^{\\phi_1} {r}_{y} \\left( \\theta, ~ \\phi \\right) \\sin \\theta \\,d\\phi \\,d\\theta = \n",
    "\\int_{\\theta_{0}}^{\\theta_{1}} \\int_{\\phi_0}^{\\phi_1} \\sin^2 \\theta \\sin \\phi \\,d\\phi \\,d\\theta = \n",
    "\\left( \\cos \\phi_0 - \\cos \\phi_1 \\right) \\left( \\frac{\\theta_1 - \\theta_0}{2} - \\frac{\\sin 2 \\theta_1 - \\sin 2 \\theta_0}{4} \\right)\n",
    "$\n",
    "  - $\n",
    "\\int_{\\theta_{0}}^{\\theta_{1}} \\int_{\\phi_0}^{\\phi_1} {r}_{z} \\left( \\theta, ~ \\phi \\right) \\sin \\theta \\,d\\phi \\,d\\theta = \n",
    "\\int_{\\theta_{0}}^{\\theta_{1}} \\int_{\\phi_0}^{\\phi_1} \\sin \\theta \\cos \\theta \\,d\\phi \\,d\\theta = \n",
    "\\left( \\phi_1 - \\phi_0 \\right) \\left( \\frac{\\cos 2 \\theta_0 - \\cos 2 \\theta_1}{4} \\right)\n",
    "$"
   ]
  },
  {
   "cell_type": "code",
   "execution_count": 33,
   "id": "b1447711",
   "metadata": {
    "execution": {
     "iopub.execute_input": "2023-03-18T15:14:44.323438Z",
     "iopub.status.busy": "2023-03-18T15:14:44.322550Z",
     "iopub.status.idle": "2023-03-18T15:14:44.334557Z",
     "shell.execute_reply": "2023-03-18T15:14:44.333510Z"
    },
    "papermill": {
     "duration": 0.020356,
     "end_time": "2023-03-18T15:14:44.336620",
     "exception": false,
     "start_time": "2023-03-18T15:14:44.316264",
     "status": "completed"
    },
    "tags": []
   },
   "outputs": [],
   "source": [
    "angle_bin_zenith0 = np.tile(zenith_edges[:-1], bin_num)\n",
    "angle_bin_zenith1 = np.tile(zenith_edges[1:], bin_num)\n",
    "angle_bin_azimuth0 = np.repeat(azimuth_edges[:-1], bin_num)\n",
    "angle_bin_azimuth1 = np.repeat(azimuth_edges[1:], bin_num)\n",
    "\n",
    "angle_bin_area = (angle_bin_azimuth1 - angle_bin_azimuth0) * (\n",
    "    np.cos(angle_bin_zenith0) - np.cos(angle_bin_zenith1)\n",
    ")\n",
    "angle_bin_vector_sum_x = (\n",
    "    np.sin(angle_bin_azimuth1) - np.sin(angle_bin_azimuth0)\n",
    ") * (\n",
    "    (angle_bin_zenith1 - angle_bin_zenith0) / 2\n",
    "    - (np.sin(2 * angle_bin_zenith1) - np.sin(2 * angle_bin_zenith0)) / 4\n",
    ")\n",
    "angle_bin_vector_sum_y = (\n",
    "    np.cos(angle_bin_azimuth0) - np.cos(angle_bin_azimuth1)\n",
    ") * (\n",
    "    (angle_bin_zenith1 - angle_bin_zenith0) / 2\n",
    "    - (np.sin(2 * angle_bin_zenith1) - np.sin(2 * angle_bin_zenith0)) / 4\n",
    ")\n",
    "angle_bin_vector_sum_z = (angle_bin_azimuth1 - angle_bin_azimuth0) * (\n",
    "    (np.cos(2 * angle_bin_zenith0) - np.cos(2 * angle_bin_zenith1)) / 4\n",
    ")\n",
    "\n",
    "angle_bin_vector_mean_x = angle_bin_vector_sum_x / angle_bin_area\n",
    "angle_bin_vector_mean_y = angle_bin_vector_sum_y / angle_bin_area\n",
    "angle_bin_vector_mean_z = angle_bin_vector_sum_z / angle_bin_area\n",
    "\n",
    "angle_bin_vector = np.zeros((1, bin_num * bin_num, 3))\n",
    "angle_bin_vector[:, :, 0] = angle_bin_vector_mean_x\n",
    "angle_bin_vector[:, :, 1] = angle_bin_vector_mean_y\n",
    "angle_bin_vector[:, :, 2] = angle_bin_vector_mean_z\n",
    "\n",
    "angle_bin_vector_unit = angle_bin_vector[0].copy()\n",
    "angle_bin_vector_unit /= np.sqrt(\n",
    "    (angle_bin_vector_unit**2).sum(axis=1).reshape((-1, 1))\n",
    ")"
   ]
  },
  {
   "cell_type": "code",
   "execution_count": 34,
   "id": "fdf2eabd",
   "metadata": {
    "execution": {
     "iopub.execute_input": "2023-03-18T15:14:44.348911Z",
     "iopub.status.busy": "2023-03-18T15:14:44.348468Z",
     "iopub.status.idle": "2023-03-18T15:14:44.355955Z",
     "shell.execute_reply": "2023-03-18T15:14:44.354937Z"
    },
    "papermill": {
     "duration": 0.015387,
     "end_time": "2023-03-18T15:14:44.358009",
     "exception": false,
     "start_time": "2023-03-18T15:14:44.342622",
     "status": "completed"
    },
    "tags": []
   },
   "outputs": [],
   "source": [
    "def pred_to_angle(pred, epsilon=1e-8, shift=False):\n",
    "    # Convert prediction\n",
    "    pred_vector = (pred.reshape((-1, bin_num**2, 1)) * angle_bin_vector).sum(\n",
    "        axis=1\n",
    "    )\n",
    "\n",
    "    # Normalize\n",
    "    pred_vector_norm = np.sqrt((pred_vector**2).sum(axis=1))\n",
    "    mask = pred_vector_norm < epsilon\n",
    "    pred_vector_norm[mask] = 1\n",
    "\n",
    "    # Assign <1, 0, 0> to very small vectors (badly predicted)\n",
    "    pred_vector /= pred_vector_norm.reshape((-1, 1))\n",
    "    pred_vector[mask] = np.array([1.0, 0.0, 0.0])\n",
    "\n",
    "    # Convert to angle\n",
    "    azimuth = np.arctan2(pred_vector[:, 1], pred_vector[:, 0])\n",
    "    azimuth[azimuth < 0] += 2 * np.pi\n",
    "    zenith = np.arccos(pred_vector[:, 2])\n",
    "\n",
    "    # Shift\n",
    "    if shift:\n",
    "        azimuth -= azimuth_shift\n",
    "        azimuth[azimuth < 0] += 2 * np.pi\n",
    "\n",
    "    # Mask bad norm predictions as 0, 0\n",
    "    azimuth[mask] = 0.0\n",
    "    zenith[mask] = 0.0\n",
    "\n",
    "    return azimuth, zenith"
   ]
  },
  {
   "cell_type": "markdown",
   "id": "80c55a56",
   "metadata": {
    "papermill": {
     "duration": 0.00763,
     "end_time": "2023-03-18T15:14:44.370632",
     "exception": false,
     "start_time": "2023-03-18T15:14:44.363002",
     "status": "completed"
    },
    "tags": []
   },
   "source": [
    "## Weighted-Vector Ensemble"
   ]
  },
  {
   "cell_type": "code",
   "execution_count": 35,
   "id": "e1eeb7d6",
   "metadata": {
    "execution": {
     "iopub.execute_input": "2023-03-18T15:14:44.382239Z",
     "iopub.status.busy": "2023-03-18T15:14:44.381897Z",
     "iopub.status.idle": "2023-03-18T15:14:44.390004Z",
     "shell.execute_reply": "2023-03-18T15:14:44.388930Z"
    },
    "papermill": {
     "duration": 0.016591,
     "end_time": "2023-03-18T15:14:44.392009",
     "exception": false,
     "start_time": "2023-03-18T15:14:44.375418",
     "status": "completed"
    },
    "tags": []
   },
   "outputs": [],
   "source": [
    "def weighted_vector_ensemble(angles, weight):\n",
    "    # Convert angle to vector\n",
    "    vec_models = list()\n",
    "    for angle in angles:\n",
    "        az, zen = angle\n",
    "        sa = np.sin(az)\n",
    "        ca = np.cos(az)\n",
    "        sz = np.sin(zen)\n",
    "        cz = np.cos(zen)\n",
    "        vec = np.stack([sz * ca, sz * sa, cz], axis=1)\n",
    "        vec_models.append(vec)\n",
    "    vec_models = np.array(vec_models)\n",
    "\n",
    "    # Weighted-mean\n",
    "    vec_mean = (weight.reshape((-1, 1, 1)) * vec_models).sum(\n",
    "        axis=0\n",
    "    ) / weight.sum()\n",
    "    vec_mean /= np.sqrt((vec_mean**2).sum(axis=1)).reshape((-1, 1))\n",
    "\n",
    "    # Convert vector to angle\n",
    "    zenith = np.arccos(vec_mean[:, 2])\n",
    "    azimuth = np.arctan2(vec_mean[:, 1], vec_mean[:, 0])\n",
    "    azimuth[azimuth < 0] += 2 * np.pi\n",
    "\n",
    "    return azimuth, zenith"
   ]
  },
  {
   "cell_type": "markdown",
   "id": "550ba561",
   "metadata": {
    "papermill": {
     "duration": 0.004833,
     "end_time": "2023-03-18T15:14:44.401671",
     "exception": false,
     "start_time": "2023-03-18T15:14:44.396838",
     "status": "completed"
    },
    "tags": []
   },
   "source": [
    "## Single event reader function\n",
    "\n",
    "- Pick-up important data points first\n",
    "    - Rank 3 (First)\n",
    "        - not aux, in valid time window\n",
    "    - Rank 2\n",
    "        - not aux, out of valid time window\n",
    "    - Rank 1\n",
    "        - aux, in valid time window\n",
    "    - Rank 0 (Last)\n",
    "        - aux, out of valid time window\n",
    "    - In each ranks, take pulses from highest charge"
   ]
  },
  {
   "cell_type": "code",
   "execution_count": 36,
   "id": "c224992c",
   "metadata": {
    "execution": {
     "iopub.execute_input": "2023-03-18T15:14:44.412880Z",
     "iopub.status.busy": "2023-03-18T15:14:44.412627Z",
     "iopub.status.idle": "2023-03-18T15:14:44.424290Z",
     "shell.execute_reply": "2023-03-18T15:14:44.423460Z"
    },
    "papermill": {
     "duration": 0.019802,
     "end_time": "2023-03-18T15:14:44.426257",
     "exception": false,
     "start_time": "2023-03-18T15:14:44.406455",
     "status": "completed"
    },
    "tags": []
   },
   "outputs": [],
   "source": [
    "# Placeholder\n",
    "open_batch_dict = dict()\n",
    "\n",
    "# Read single event from batch_meta_df\n",
    "def read_event(event_idx, batch_meta_df, pulse_count):\n",
    "    # Read metadata\n",
    "    batch_id, first_pulse_index, last_pulse_index = batch_meta_df.iloc[\n",
    "        event_idx\n",
    "    ][[\"batch_id\", \"first_pulse_index\", \"last_pulse_index\"]].astype(\"int\")\n",
    "\n",
    "    # close past batch df\n",
    "    if batch_id - 1 in open_batch_dict.keys():\n",
    "        del open_batch_dict[batch_id - 1]\n",
    "\n",
    "    # open current batch df\n",
    "    if batch_id not in open_batch_dict.keys():\n",
    "        open_batch_dict.update(\n",
    "            {batch_id: pd.read_parquet(test_format.format(batch_id=batch_id))}\n",
    "        )\n",
    "\n",
    "    batch_df = open_batch_dict[batch_id]\n",
    "\n",
    "    # Read event\n",
    "    event_feature = batch_df[first_pulse_index : last_pulse_index + 1]\n",
    "    sensor_id = event_feature.sensor_id\n",
    "\n",
    "    # Merge features into single structured array\n",
    "    dtype = [\n",
    "        (\"time\", \"float16\"),\n",
    "        (\"charge\", \"float16\"),\n",
    "        (\"auxiliary\", \"float16\"),\n",
    "        (\"x\", \"float16\"),\n",
    "        (\"y\", \"float16\"),\n",
    "        (\"z\", \"float16\"),\n",
    "        (\"rank\", \"short\"),\n",
    "    ]\n",
    "\n",
    "    # Create event_x\n",
    "    event_x = np.zeros(last_pulse_index - first_pulse_index + 1, dtype)\n",
    "    event_x[\"time\"] = event_feature.time.values - event_feature.time.min()\n",
    "    event_x[\"charge\"] = event_feature.charge.values\n",
    "    event_x[\"auxiliary\"] = event_feature.auxiliary.values\n",
    "    event_x[\"x\"] = sensor_geometry_df.x[sensor_id].values\n",
    "    event_x[\"y\"] = sensor_geometry_df.y[sensor_id].values\n",
    "    event_x[\"z\"] = sensor_geometry_df.z[sensor_id].values\n",
    "\n",
    "    # For long event, pick-up\n",
    "    if len(event_x) > pulse_count:\n",
    "        # Find valid time window\n",
    "        t_peak = event_x[\"time\"][event_x[\"charge\"].argmax()]\n",
    "        t_valid_min = t_peak - t_valid_length\n",
    "        t_valid_max = t_peak + t_valid_length\n",
    "        t_valid = (event_x[\"time\"] > t_valid_min) * (\n",
    "            event_x[\"time\"] < t_valid_max\n",
    "        )\n",
    "\n",
    "        # Rank\n",
    "        event_x[\"rank\"] = 2 * (1 - event_x[\"auxiliary\"]) + (t_valid)\n",
    "\n",
    "        # Sort by Rank and Charge (important goes to backward)\n",
    "        event_x = np.sort(event_x, order=[\"rank\", \"charge\"])\n",
    "\n",
    "        # pick-up from backward\n",
    "        event_x = event_x[-pulse_count:]\n",
    "\n",
    "        # Sort events by time\n",
    "        event_x = np.sort(event_x, order=\"time\")\n",
    "\n",
    "    return event_idx, len(event_x), event_x"
   ]
  },
  {
   "cell_type": "markdown",
   "id": "6fbff4d7",
   "metadata": {
    "papermill": {
     "duration": 0.004504,
     "end_time": "2023-03-18T15:14:44.435794",
     "exception": false,
     "start_time": "2023-03-18T15:14:44.431290",
     "status": "completed"
    },
    "tags": []
   },
   "source": [
    "## Test metadata"
   ]
  },
  {
   "cell_type": "code",
   "execution_count": 37,
   "id": "f4c72af3",
   "metadata": {
    "execution": {
     "iopub.execute_input": "2023-03-18T15:14:44.446971Z",
     "iopub.status.busy": "2023-03-18T15:14:44.446280Z",
     "iopub.status.idle": "2023-03-18T15:14:44.527450Z",
     "shell.execute_reply": "2023-03-18T15:14:44.526567Z"
    },
    "papermill": {
     "duration": 0.089199,
     "end_time": "2023-03-18T15:14:44.529923",
     "exception": false,
     "start_time": "2023-03-18T15:14:44.440724",
     "status": "completed"
    },
    "tags": []
   },
   "outputs": [],
   "source": [
    "# Read Test Meta data\n",
    "# test_meta_df = pq.read_table('local_test_meta.parquet').to_pandas()\n",
    "batch_counts = test_meta_df.batch_id.value_counts().sort_index()\n",
    "\n",
    "batch_max_index = batch_counts.cumsum()\n",
    "batch_max_index[test_meta_df.batch_id.min() - 1] = 0\n",
    "batch_max_index = batch_max_index.sort_index()\n",
    "\n",
    "# Support Function\n",
    "def test_meta_df_spliter(batch_id):\n",
    "    return test_meta_df.loc[\n",
    "        batch_max_index[batch_id - 1] : batch_max_index[batch_id] - 1\n",
    "    ]"
   ]
  },
  {
   "cell_type": "markdown",
   "id": "21dc1c7e",
   "metadata": {
    "papermill": {
     "duration": 0.004869,
     "end_time": "2023-03-18T15:14:44.539889",
     "exception": false,
     "start_time": "2023-03-18T15:14:44.535020",
     "status": "completed"
    },
    "tags": []
   },
   "source": [
    "## Read test data and predict batchwise"
   ]
  },
  {
   "cell_type": "code",
   "execution_count": 38,
   "id": "1388dadd",
   "metadata": {},
   "outputs": [],
   "source": [
    "batch_size = 128\n",
    "num_workers = 4\n",
    "\n",
    "\n",
    "@torch.inference_mode()\n",
    "@torch.cuda.amp.autocast()\n",
    "def predict(\n",
    "    model: torch.jit.RecursiveScriptModule,\n",
    "    data: np.ndarray,\n",
    "    batch_size: int = 32,\n",
    "    num_workers: int = 4,\n",
    "):\n",
    "    model.eval().cuda()\n",
    "    dataset = TensorDataset(torch.as_tensor(data))\n",
    "    dataloader = DataLoader(\n",
    "        dataset, batch_size=batch_size, shuffle=False, num_workers=num_workers\n",
    "    )\n",
    "\n",
    "    preds = []\n",
    "\n",
    "    for batch in dataloader:\n",
    "        if isinstance(batch, list):\n",
    "            batch = batch[0]\n",
    "        pred = model(batch.cuda())\n",
    "        preds.append(pred)\n",
    "\n",
    "    return (\n",
    "        torch.concat(preds, dim=0)\n",
    "        .softmax(dim=-1, dtype=torch.float16)\n",
    "        .cpu()\n",
    "        .numpy()\n",
    "    )"
   ]
  },
  {
   "cell_type": "code",
   "execution_count": null,
   "id": "ad1fbba2",
   "metadata": {
    "execution": {
     "iopub.execute_input": "2023-03-18T15:14:44.551377Z",
     "iopub.status.busy": "2023-03-18T15:14:44.550695Z",
     "iopub.status.idle": "2023-03-18T15:15:04.899184Z",
     "shell.execute_reply": "2023-03-18T15:15:04.898083Z"
    },
    "papermill": {
     "duration": 20.357556,
     "end_time": "2023-03-18T15:15:04.902180",
     "exception": false,
     "start_time": "2023-03-18T15:14:44.544624",
     "status": "completed"
    },
    "tags": []
   },
   "outputs": [],
   "source": [
    "for model_weights in (\n",
    "    np.array([0.25, 0.25, 0.25, 0.25]),\n",
    "    np.array([0.35, 0.35, 0.15, 0.15]),\n",
    "    np.array([0.4, 0.4, 0.1, 0.1]),\n",
    "):\n",
    "    # Get Batch IDs\n",
    "    test_batch_ids = test_meta_df.batch_id.unique()\n",
    "\n",
    "    # Submission Placeholders\n",
    "    test_event_id = []\n",
    "    test_azimuth = []\n",
    "    test_zenith = []\n",
    "\n",
    "    # Batch Loop\n",
    "    for batch_id in test_batch_ids:\n",
    "        # Batch Meta DF\n",
    "        batch_meta_df = test_meta_df_spliter(batch_id)\n",
    "\n",
    "        # Set Pulses\n",
    "        test_x = np.zeros(\n",
    "            (len(batch_meta_df), pulse_count, feature_count), dtype=\"float16\"\n",
    "        )\n",
    "        test_x[:, :, 2] = -1\n",
    "\n",
    "        # Read Event Data\n",
    "        def read_event_local(event_idx):\n",
    "            return read_event(event_idx, batch_meta_df, pulse_count)\n",
    "\n",
    "        # Multiprocess Events\n",
    "        iterator = range(len(batch_meta_df))\n",
    "        with multiprocessing.Pool(processes=4) as pool:\n",
    "            for event_idx, pulsecount, event_x in pool.map(\n",
    "                read_event_local, iterator\n",
    "            ):\n",
    "                # Features\n",
    "                test_x[event_idx, :pulsecount, 0] = event_x[\"time\"]\n",
    "                test_x[event_idx, :pulsecount, 1] = event_x[\"charge\"]\n",
    "                test_x[event_idx, :pulsecount, 2] = event_x[\"auxiliary\"]\n",
    "                test_x[event_idx, :pulsecount, 3] = event_x[\"x\"]\n",
    "                test_x[event_idx, :pulsecount, 4] = event_x[\"y\"]\n",
    "                test_x[event_idx, :pulsecount, 5] = event_x[\"z\"]\n",
    "\n",
    "        del batch_meta_df\n",
    "\n",
    "        # Normalize\n",
    "        test_x[:, :, 0] /= 1000  # time\n",
    "        test_x[:, :, 1] /= 300  # charge\n",
    "        test_x[:, :, 3:] /= 600  # space\n",
    "\n",
    "        # Predict\n",
    "        pred_angles = []\n",
    "        for model, shift in zip(models, is_shifted):\n",
    "            pred_model = predict(model, test_x)\n",
    "            az_model, zen_model = pred_to_angle(pred_model, shift=shift)\n",
    "            pred_angles.append((az_model, zen_model))\n",
    "\n",
    "        # Get Predicted Azimuth and Zenith\n",
    "        pred_azimuth, pred_zenith = weighted_vector_ensemble(\n",
    "            pred_angles, model_weights\n",
    "        )\n",
    "\n",
    "        # Get Event IDs\n",
    "        event_ids = test_meta_df.event_id[\n",
    "            test_meta_df.batch_id == batch_id\n",
    "        ].values\n",
    "\n",
    "        # Finalize\n",
    "        for event_id, azimuth, zenith in zip(\n",
    "            event_ids, pred_azimuth, pred_zenith\n",
    "        ):\n",
    "            if np.isfinite(azimuth) and np.isfinite(zenith):\n",
    "                test_event_id.append(int(event_id))\n",
    "                test_azimuth.append(azimuth)\n",
    "                test_zenith.append(zenith)\n",
    "            else:\n",
    "                test_event_id.append(int(event_id))\n",
    "                test_azimuth.append(0.0)\n",
    "                test_zenith.append(0.0)\n",
    "\n",
    "    score = angular_dist_score(\n",
    "        test_meta_df[\"azimuth\"],\n",
    "        test_meta_df[\"zenith\"],\n",
    "        test_azimuth,\n",
    "        test_zenith,\n",
    "    )\n",
    "    print(model_weights, score)"
   ]
  },
  {
   "cell_type": "markdown",
   "id": "6cd6e23e",
   "metadata": {
    "papermill": {
     "duration": 0.004965,
     "end_time": "2023-03-18T15:15:04.912806",
     "exception": false,
     "start_time": "2023-03-18T15:15:04.907841",
     "status": "completed"
    },
    "tags": []
   },
   "source": [
    "## Create Submission"
   ]
  },
  {
   "cell_type": "code",
   "execution_count": 7,
   "id": "e9eed850",
   "metadata": {},
   "outputs": [
    {
     "data": {
      "text/plain": [
       "153924"
      ]
     },
     "execution_count": 7,
     "metadata": {},
     "output_type": "execute_result"
    }
   ],
   "source": [
    "pl.read_parquet(\"/media/eden/sandisk/projects/icecube/input/icecube/icecube-neutrinos-in-deep-ice/train/batch_660.parquet\")[\"event_id\"].n_unique()"
   ]
  },
  {
   "cell_type": "code",
   "execution_count": 14,
   "id": "76e94a55",
   "metadata": {
    "execution": {
     "iopub.execute_input": "2023-03-18T15:15:04.924545Z",
     "iopub.status.busy": "2023-03-18T15:15:04.923643Z",
     "iopub.status.idle": "2023-03-18T15:15:04.934080Z",
     "shell.execute_reply": "2023-03-18T15:15:04.933233Z"
    },
    "papermill": {
     "duration": 0.018472,
     "end_time": "2023-03-18T15:15:04.936124",
     "exception": false,
     "start_time": "2023-03-18T15:15:04.917652",
     "status": "completed"
    },
    "tags": []
   },
   "outputs": [],
   "source": [
    "# Create and Save Submission.csv\n",
    "submission_df = pd.DataFrame(\n",
    "    {\"event_id\": test_event_id, \"azimuth\": test_azimuth, \"zenith\": test_zenith}\n",
    ")\n",
    "submission_df = submission_df.sort_values(by=[\"event_id\"])\n",
    "submission_df.to_csv(\"submission.csv\", index=False)"
   ]
  },
  {
   "cell_type": "code",
   "execution_count": 15,
   "id": "63816abd",
   "metadata": {
    "execution": {
     "iopub.execute_input": "2023-03-18T15:15:04.947490Z",
     "iopub.status.busy": "2023-03-18T15:15:04.946688Z",
     "iopub.status.idle": "2023-03-18T15:15:04.962008Z",
     "shell.execute_reply": "2023-03-18T15:15:04.961062Z"
    },
    "papermill": {
     "duration": 0.022879,
     "end_time": "2023-03-18T15:15:04.963958",
     "exception": false,
     "start_time": "2023-03-18T15:15:04.941079",
     "status": "completed"
    },
    "tags": []
   },
   "outputs": [
    {
     "data": {
      "text/html": [
       "<div>\n",
       "<style scoped>\n",
       "    .dataframe tbody tr th:only-of-type {\n",
       "        vertical-align: middle;\n",
       "    }\n",
       "\n",
       "    .dataframe tbody tr th {\n",
       "        vertical-align: top;\n",
       "    }\n",
       "\n",
       "    .dataframe thead th {\n",
       "        text-align: right;\n",
       "    }\n",
       "</style>\n",
       "<table border=\"1\" class=\"dataframe\">\n",
       "  <thead>\n",
       "    <tr style=\"text-align: right;\">\n",
       "      <th></th>\n",
       "      <th>event_id</th>\n",
       "      <th>azimuth</th>\n",
       "      <th>zenith</th>\n",
       "    </tr>\n",
       "  </thead>\n",
       "  <tbody>\n",
       "    <tr>\n",
       "      <th>0</th>\n",
       "      <td>2131983614</td>\n",
       "      <td>3.280248</td>\n",
       "      <td>2.481403</td>\n",
       "    </tr>\n",
       "    <tr>\n",
       "      <th>1</th>\n",
       "      <td>2131983673</td>\n",
       "      <td>1.071785</td>\n",
       "      <td>0.622176</td>\n",
       "    </tr>\n",
       "    <tr>\n",
       "      <th>2</th>\n",
       "      <td>2131983677</td>\n",
       "      <td>1.173284</td>\n",
       "      <td>2.842831</td>\n",
       "    </tr>\n",
       "    <tr>\n",
       "      <th>3</th>\n",
       "      <td>2131983678</td>\n",
       "      <td>1.179044</td>\n",
       "      <td>0.140496</td>\n",
       "    </tr>\n",
       "    <tr>\n",
       "      <th>4</th>\n",
       "      <td>2131983690</td>\n",
       "      <td>4.948761</td>\n",
       "      <td>0.308280</td>\n",
       "    </tr>\n",
       "  </tbody>\n",
       "</table>\n",
       "</div>"
      ],
      "text/plain": [
       "     event_id   azimuth    zenith\n",
       "0  2131983614  3.280248  2.481403\n",
       "1  2131983673  1.071785  0.622176\n",
       "2  2131983677  1.173284  2.842831\n",
       "3  2131983678  1.179044  0.140496\n",
       "4  2131983690  4.948761  0.308280"
      ]
     },
     "execution_count": 15,
     "metadata": {},
     "output_type": "execute_result"
    }
   ],
   "source": [
    "# Summary\n",
    "submission_df.head()\n"
   ]
  },
  {
   "attachments": {},
   "cell_type": "markdown",
   "id": "5cde6c72",
   "metadata": {},
   "source": [
    "## Evaluation"
   ]
  },
  {
   "cell_type": "code",
   "execution_count": 40,
   "id": "36ca69d2",
   "metadata": {},
   "outputs": [
    {
     "data": {
      "text/plain": [
       "1.0159426312754187"
      ]
     },
     "execution_count": 40,
     "metadata": {},
     "output_type": "execute_result"
    }
   ],
   "source": [
    "angular_dist_score(\n",
    "    test_meta_df[\"azimuth\"], test_meta_df[\"zenith\"], test_azimuth, test_zenith\n",
    ")"
   ]
  },
  {
   "cell_type": "code",
   "execution_count": 27,
   "id": "9b433843",
   "metadata": {},
   "outputs": [
    {
     "data": {
      "text/plain": [
       "1.0129658353712108"
      ]
     },
     "execution_count": 27,
     "metadata": {},
     "output_type": "execute_result"
    }
   ],
   "source": [
    "from icecube.utils.metrics import angular_dist_score\n",
    "\n",
    "angular_dist_score(\n",
    "    test_meta_df[\"azimuth\"], test_meta_df[\"zenith\"], test_azimuth, test_zenith\n",
    ")"
   ]
  }
 ],
 "metadata": {
  "kernelspec": {
   "display_name": "Python 3",
   "language": "python",
   "name": "python3"
  },
  "language_info": {
   "codemirror_mode": {
    "name": "ipython",
    "version": 3
   },
   "file_extension": ".py",
   "mimetype": "text/x-python",
   "name": "python",
   "nbconvert_exporter": "python",
   "pygments_lexer": "ipython3",
   "version": "3.7.16"
  },
  "papermill": {
   "default_parameters": {},
   "duration": 54.293938,
   "end_time": "2023-03-18T15:15:08.089397",
   "environment_variables": {},
   "exception": null,
   "input_path": "__notebook__.ipynb",
   "output_path": "__notebook__.ipynb",
   "parameters": {},
   "start_time": "2023-03-18T15:14:13.795459",
   "version": "2.3.4"
  }
 },
 "nbformat": 4,
 "nbformat_minor": 5
}
